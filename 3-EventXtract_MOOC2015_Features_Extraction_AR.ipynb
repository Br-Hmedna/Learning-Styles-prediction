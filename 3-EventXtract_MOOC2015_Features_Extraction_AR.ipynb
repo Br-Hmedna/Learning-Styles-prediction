{
 "cells": [
  {
   "cell_type": "markdown",
   "metadata": {},
   "source": [
    "# EventXtract MOOC2015 :Features Extraction"
   ]
  },
  {
   "cell_type": "code",
   "execution_count": 1,
   "metadata": {},
   "outputs": [],
   "source": [
    "# data analysis and wrangling\n",
    "import pandas as pd\n",
    "import numpy as np\n",
    "# visualization\n",
    "import seaborn as sns\n",
    "import matplotlib.pyplot as plt\n",
    "%matplotlib inline\n",
    "pd.options.display.max_colwidth=1000"
   ]
  },
  {
   "cell_type": "code",
   "execution_count": 2,
   "metadata": {},
   "outputs": [
    {
     "name": "stderr",
     "output_type": "stream",
     "text": [
      "C:\\Users\\lenovo\\Anaconda3\\lib\\site-packages\\IPython\\core\\interactiveshell.py:3020: DtypeWarning: Columns (8,12,16) have mixed types. Specify dtype option on import or set low_memory=False.\n",
      "  interactivity=interactivity, compiler=compiler, result=result)\n"
     ]
    },
    {
     "data": {
      "text/html": [
       "<div>\n",
       "<style scoped>\n",
       "    .dataframe tbody tr th:only-of-type {\n",
       "        vertical-align: middle;\n",
       "    }\n",
       "\n",
       "    .dataframe tbody tr th {\n",
       "        vertical-align: top;\n",
       "    }\n",
       "\n",
       "    .dataframe thead th {\n",
       "        text-align: right;\n",
       "    }\n",
       "</style>\n",
       "<table border=\"1\" class=\"dataframe\">\n",
       "  <thead>\n",
       "    <tr style=\"text-align: right;\">\n",
       "      <th></th>\n",
       "      <th>week</th>\n",
       "      <th>event_type</th>\n",
       "      <th>resource_display_name</th>\n",
       "      <th>time</th>\n",
       "      <th>event_duration</th>\n",
       "      <th>nbr_session</th>\n",
       "      <th>success</th>\n",
       "      <th>video_code</th>\n",
       "      <th>video_current_time</th>\n",
       "      <th>video_speed</th>\n",
       "      <th>video_old_time</th>\n",
       "      <th>video_new_time</th>\n",
       "      <th>video_seek_type</th>\n",
       "      <th>video_new_speed</th>\n",
       "      <th>video_old_speed</th>\n",
       "      <th>goto_from</th>\n",
       "      <th>goto_dest</th>\n",
       "      <th>ip_country</th>\n",
       "      <th>events</th>\n",
       "    </tr>\n",
       "    <tr>\n",
       "      <th>anon_screen_name</th>\n",
       "      <th></th>\n",
       "      <th></th>\n",
       "      <th></th>\n",
       "      <th></th>\n",
       "      <th></th>\n",
       "      <th></th>\n",
       "      <th></th>\n",
       "      <th></th>\n",
       "      <th></th>\n",
       "      <th></th>\n",
       "      <th></th>\n",
       "      <th></th>\n",
       "      <th></th>\n",
       "      <th></th>\n",
       "      <th></th>\n",
       "      <th></th>\n",
       "      <th></th>\n",
       "      <th></th>\n",
       "      <th></th>\n",
       "    </tr>\n",
       "  </thead>\n",
       "  <tbody>\n",
       "    <tr>\n",
       "      <th>9a3d3f219e4cc1122e929e2daa4a7afcfc6ec2d9</th>\n",
       "      <td>NaN</td>\n",
       "      <td>about</td>\n",
       "      <td>NaN</td>\n",
       "      <td>2015-01-19 00:02:43</td>\n",
       "      <td>65913.0</td>\n",
       "      <td>0</td>\n",
       "      <td>NaN</td>\n",
       "      <td>NaN</td>\n",
       "      <td>NaN</td>\n",
       "      <td>NaN</td>\n",
       "      <td>NaN</td>\n",
       "      <td>NaN</td>\n",
       "      <td>NaN</td>\n",
       "      <td>NaN</td>\n",
       "      <td>NaN</td>\n",
       "      <td>-1</td>\n",
       "      <td>-1.0</td>\n",
       "      <td>GBR</td>\n",
       "      <td>about</td>\n",
       "    </tr>\n",
       "    <tr>\n",
       "      <th>d39809aa673c09a836815d09b44f7ca9c9bed463</th>\n",
       "      <td>NaN</td>\n",
       "      <td>about</td>\n",
       "      <td>NaN</td>\n",
       "      <td>2015-01-19 00:02:49</td>\n",
       "      <td>44.0</td>\n",
       "      <td>0</td>\n",
       "      <td>NaN</td>\n",
       "      <td>NaN</td>\n",
       "      <td>NaN</td>\n",
       "      <td>NaN</td>\n",
       "      <td>NaN</td>\n",
       "      <td>NaN</td>\n",
       "      <td>NaN</td>\n",
       "      <td>NaN</td>\n",
       "      <td>NaN</td>\n",
       "      <td>-1</td>\n",
       "      <td>-1.0</td>\n",
       "      <td>ITA</td>\n",
       "      <td>about</td>\n",
       "    </tr>\n",
       "    <tr>\n",
       "      <th>d39809aa673c09a836815d09b44f7ca9c9bed463</th>\n",
       "      <td>NaN</td>\n",
       "      <td>edx.course.enrollment.activated</td>\n",
       "      <td>NaN</td>\n",
       "      <td>2015-01-19 00:03:33</td>\n",
       "      <td>71802.0</td>\n",
       "      <td>0</td>\n",
       "      <td>NaN</td>\n",
       "      <td>NaN</td>\n",
       "      <td>NaN</td>\n",
       "      <td>NaN</td>\n",
       "      <td>NaN</td>\n",
       "      <td>NaN</td>\n",
       "      <td>NaN</td>\n",
       "      <td>NaN</td>\n",
       "      <td>NaN</td>\n",
       "      <td>-1</td>\n",
       "      <td>-1.0</td>\n",
       "      <td>ITA</td>\n",
       "      <td>edx.course.enrollment.activated</td>\n",
       "    </tr>\n",
       "    <tr>\n",
       "      <th>34a807d69e6169b69c21572dbc45524b4384aadf</th>\n",
       "      <td>NaN</td>\n",
       "      <td>about</td>\n",
       "      <td>NaN</td>\n",
       "      <td>2015-01-19 00:03:44</td>\n",
       "      <td>170.0</td>\n",
       "      <td>0</td>\n",
       "      <td>NaN</td>\n",
       "      <td>NaN</td>\n",
       "      <td>NaN</td>\n",
       "      <td>NaN</td>\n",
       "      <td>NaN</td>\n",
       "      <td>NaN</td>\n",
       "      <td>NaN</td>\n",
       "      <td>NaN</td>\n",
       "      <td>NaN</td>\n",
       "      <td>-1</td>\n",
       "      <td>-1.0</td>\n",
       "      <td>EGY</td>\n",
       "      <td>about</td>\n",
       "    </tr>\n",
       "    <tr>\n",
       "      <th>34a807d69e6169b69c21572dbc45524b4384aadf</th>\n",
       "      <td>NaN</td>\n",
       "      <td>about</td>\n",
       "      <td>NaN</td>\n",
       "      <td>2015-01-19 00:06:34</td>\n",
       "      <td>19450.0</td>\n",
       "      <td>0</td>\n",
       "      <td>NaN</td>\n",
       "      <td>NaN</td>\n",
       "      <td>NaN</td>\n",
       "      <td>NaN</td>\n",
       "      <td>NaN</td>\n",
       "      <td>NaN</td>\n",
       "      <td>NaN</td>\n",
       "      <td>NaN</td>\n",
       "      <td>NaN</td>\n",
       "      <td>-1</td>\n",
       "      <td>-1.0</td>\n",
       "      <td>EGY</td>\n",
       "      <td>about</td>\n",
       "    </tr>\n",
       "  </tbody>\n",
       "</table>\n",
       "</div>"
      ],
      "text/plain": [
       "                                          week  \\\n",
       "anon_screen_name                                 \n",
       "9a3d3f219e4cc1122e929e2daa4a7afcfc6ec2d9   NaN   \n",
       "d39809aa673c09a836815d09b44f7ca9c9bed463   NaN   \n",
       "d39809aa673c09a836815d09b44f7ca9c9bed463   NaN   \n",
       "34a807d69e6169b69c21572dbc45524b4384aadf   NaN   \n",
       "34a807d69e6169b69c21572dbc45524b4384aadf   NaN   \n",
       "\n",
       "                                                               event_type  \\\n",
       "anon_screen_name                                                            \n",
       "9a3d3f219e4cc1122e929e2daa4a7afcfc6ec2d9                            about   \n",
       "d39809aa673c09a836815d09b44f7ca9c9bed463                            about   \n",
       "d39809aa673c09a836815d09b44f7ca9c9bed463  edx.course.enrollment.activated   \n",
       "34a807d69e6169b69c21572dbc45524b4384aadf                            about   \n",
       "34a807d69e6169b69c21572dbc45524b4384aadf                            about   \n",
       "\n",
       "                                         resource_display_name  \\\n",
       "anon_screen_name                                                 \n",
       "9a3d3f219e4cc1122e929e2daa4a7afcfc6ec2d9                   NaN   \n",
       "d39809aa673c09a836815d09b44f7ca9c9bed463                   NaN   \n",
       "d39809aa673c09a836815d09b44f7ca9c9bed463                   NaN   \n",
       "34a807d69e6169b69c21572dbc45524b4384aadf                   NaN   \n",
       "34a807d69e6169b69c21572dbc45524b4384aadf                   NaN   \n",
       "\n",
       "                                                        time  event_duration  \\\n",
       "anon_screen_name                                                               \n",
       "9a3d3f219e4cc1122e929e2daa4a7afcfc6ec2d9 2015-01-19 00:02:43         65913.0   \n",
       "d39809aa673c09a836815d09b44f7ca9c9bed463 2015-01-19 00:02:49            44.0   \n",
       "d39809aa673c09a836815d09b44f7ca9c9bed463 2015-01-19 00:03:33         71802.0   \n",
       "34a807d69e6169b69c21572dbc45524b4384aadf 2015-01-19 00:03:44           170.0   \n",
       "34a807d69e6169b69c21572dbc45524b4384aadf 2015-01-19 00:06:34         19450.0   \n",
       "\n",
       "                                          nbr_session success video_code  \\\n",
       "anon_screen_name                                                           \n",
       "9a3d3f219e4cc1122e929e2daa4a7afcfc6ec2d9            0     NaN        NaN   \n",
       "d39809aa673c09a836815d09b44f7ca9c9bed463            0     NaN        NaN   \n",
       "d39809aa673c09a836815d09b44f7ca9c9bed463            0     NaN        NaN   \n",
       "34a807d69e6169b69c21572dbc45524b4384aadf            0     NaN        NaN   \n",
       "34a807d69e6169b69c21572dbc45524b4384aadf            0     NaN        NaN   \n",
       "\n",
       "                                         video_current_time video_speed  \\\n",
       "anon_screen_name                                                          \n",
       "9a3d3f219e4cc1122e929e2daa4a7afcfc6ec2d9                NaN         NaN   \n",
       "d39809aa673c09a836815d09b44f7ca9c9bed463                NaN         NaN   \n",
       "d39809aa673c09a836815d09b44f7ca9c9bed463                NaN         NaN   \n",
       "34a807d69e6169b69c21572dbc45524b4384aadf                NaN         NaN   \n",
       "34a807d69e6169b69c21572dbc45524b4384aadf                NaN         NaN   \n",
       "\n",
       "                                         video_old_time  video_new_time  \\\n",
       "anon_screen_name                                                          \n",
       "9a3d3f219e4cc1122e929e2daa4a7afcfc6ec2d9            NaN             NaN   \n",
       "d39809aa673c09a836815d09b44f7ca9c9bed463            NaN             NaN   \n",
       "d39809aa673c09a836815d09b44f7ca9c9bed463            NaN             NaN   \n",
       "34a807d69e6169b69c21572dbc45524b4384aadf            NaN             NaN   \n",
       "34a807d69e6169b69c21572dbc45524b4384aadf            NaN             NaN   \n",
       "\n",
       "                                         video_seek_type  video_new_speed  \\\n",
       "anon_screen_name                                                            \n",
       "9a3d3f219e4cc1122e929e2daa4a7afcfc6ec2d9             NaN              NaN   \n",
       "d39809aa673c09a836815d09b44f7ca9c9bed463             NaN              NaN   \n",
       "d39809aa673c09a836815d09b44f7ca9c9bed463             NaN              NaN   \n",
       "34a807d69e6169b69c21572dbc45524b4384aadf             NaN              NaN   \n",
       "34a807d69e6169b69c21572dbc45524b4384aadf             NaN              NaN   \n",
       "\n",
       "                                         video_old_speed  goto_from  \\\n",
       "anon_screen_name                                                      \n",
       "9a3d3f219e4cc1122e929e2daa4a7afcfc6ec2d9             NaN         -1   \n",
       "d39809aa673c09a836815d09b44f7ca9c9bed463             NaN         -1   \n",
       "d39809aa673c09a836815d09b44f7ca9c9bed463             NaN         -1   \n",
       "34a807d69e6169b69c21572dbc45524b4384aadf             NaN         -1   \n",
       "34a807d69e6169b69c21572dbc45524b4384aadf             NaN         -1   \n",
       "\n",
       "                                          goto_dest ip_country  \\\n",
       "anon_screen_name                                                 \n",
       "9a3d3f219e4cc1122e929e2daa4a7afcfc6ec2d9       -1.0        GBR   \n",
       "d39809aa673c09a836815d09b44f7ca9c9bed463       -1.0        ITA   \n",
       "d39809aa673c09a836815d09b44f7ca9c9bed463       -1.0        ITA   \n",
       "34a807d69e6169b69c21572dbc45524b4384aadf       -1.0        EGY   \n",
       "34a807d69e6169b69c21572dbc45524b4384aadf       -1.0        EGY   \n",
       "\n",
       "                                                                   events  \n",
       "anon_screen_name                                                           \n",
       "9a3d3f219e4cc1122e929e2daa4a7afcfc6ec2d9                            about  \n",
       "d39809aa673c09a836815d09b44f7ca9c9bed463                            about  \n",
       "d39809aa673c09a836815d09b44f7ca9c9bed463  edx.course.enrollment.activated  \n",
       "34a807d69e6169b69c21572dbc45524b4384aadf                            about  \n",
       "34a807d69e6169b69c21572dbc45524b4384aadf                            about  "
      ]
     },
     "execution_count": 2,
     "metadata": {},
     "output_type": "execute_result"
    }
   ],
   "source": [
    "mooc = pd.read_csv('./Input/EventXtract_MOOC2015_Preprocessed.csv',sep=\",\",index_col=False,error_bad_lines=False)\n",
    "mooc['time']=pd.to_datetime(mooc['time'])\n",
    "mooc.sort_values(\"time\",inplace=True)\n",
    "mooc.drop('Unnamed: 0', axis=1, inplace=True)\n",
    "mooc.set_index('anon_screen_name',inplace=True)\n",
    "mooc.head()"
   ]
  },
  {
   "cell_type": "code",
   "execution_count": 17,
   "metadata": {},
   "outputs": [
    {
     "data": {
      "text/plain": [
       "78"
      ]
     },
     "execution_count": 17,
     "metadata": {},
     "output_type": "execute_result"
    }
   ],
   "source": [
    "mooc.video_code.unique().size"
   ]
  },
  {
   "cell_type": "code",
   "execution_count": 4,
   "metadata": {},
   "outputs": [
    {
     "data": {
      "text/plain": [
       "array([nan,  1.,  2.,  7.,  6.,  4.,  8.,  3.,  5.,  9.])"
      ]
     },
     "execution_count": 4,
     "metadata": {},
     "output_type": "execute_result"
    }
   ],
   "source": [
    "mooc.week.unique()"
   ]
  },
  {
   "cell_type": "code",
   "execution_count": 10,
   "metadata": {},
   "outputs": [
    {
     "data": {
      "text/plain": [
       "array(['about', 'edx.course.enrollment.activated',\n",
       "       'edx.course.enrollment.deactivated', 'info', 'courseware_menu',\n",
       "       'courseware_5bc11f959e6641a7abdffbd29ac1c66e', 'page_close',\n",
       "       'Statement', 'courseware_d9820868fd3642f19ee45e273e3dfafa',\n",
       "       '/courses/humanitiesandscience/statlearning/winter2015/',\n",
       "       'ch1_Seq1', 'view_post', 'show_transcript', 'load_video',\n",
       "       'progress', 'slides',\n",
       "       'courseware_58bee9a364d14f6d9306f0e554acf46c', 'R_sessions',\n",
       "       'seq_goto', 'ch1_Seq2', 'hide_transcript', 'chapter_1', 'ch1_Seq3',\n",
       "       'play_video', 'goto_position', 'problem_get', 'ch2_Seq3',\n",
       "       'pause_video', 'speed_change_video', 'seek_video', 'ch2_Seq1',\n",
       "       'ch2_Seq7', 'save_problem_success', 'problem_save', 'ch2_Seq2',\n",
       "       'ch2_Seq5', 'ch2_Seq4', 'download', 'stop_video', 'thread_reply',\n",
       "       'problem_check', 'forum_search', 'showanswer', 'problem_show',\n",
       "       'seq_prev', 'seq_next', 'chapter_2', 'comment_reply', 'user_view',\n",
       "       'thread_update', 'ch2_Seq6',\n",
       "       'courseware_a8029e18c26944c596c533719f679930', 'thread_create',\n",
       "       'edx.forum.searched', 'user_followed', 'comment_upvote',\n",
       "       'thread_upvote', 'thread_follow', 'thread_delete', 'chapter_3',\n",
       "       'comment_update', 'comment_delete', 'thread_unvote',\n",
       "       'thread_flagAbuse', 'chapter_8', 'problem_check_fail',\n",
       "       'save_problem_fail', 'thread_unfollow', 'comment_unvote',\n",
       "       'comment_endorse', 'comment_flagAbuse', 'ch3_Seq1', 'ch7_Seq5',\n",
       "       'thread_close', 'thread_pin', 'translationen',\n",
       "       'thread_unFlagAbuse', 'ch3_Seq6', 'ch5_Seq7', 'ch11_Seq1',\n",
       "       'ch3_Seq2', 'ch3_Seq3', 'ch3_Seq4', 'ch3_Seq7', 'ch3_Seq5',\n",
       "       'ch8_Seq7', 'ch9_Seq5', 'chapter_9', 'comment_unFlagAbuse',\n",
       "       'ch8_Seq5', 'ch7_Seq1', 'ch7_Seq2', 'ch9_Seq6', 'ch4_Seq1',\n",
       "       'chapter_4', 'ch4_Seq2', 'ch4_Seq3', 'ch4_Seq10', 'ch4_Seq4',\n",
       "       'ch4_Seq5', 'ch4_Seq6', 'ch4_Seq7', 'ch4_Seq8', 'ch4_Seq9',\n",
       "       'ch6_Seq1', 'chapter_6', 'ch5_Seq2', 'ch5_Seq3', 'ch5_Seq1',\n",
       "       'ch5_Seq4', 'ch5_Seq5', 'ch5_Seq6', 'ch5_Seq8', 'chapter_5',\n",
       "       'ch6_Seq13', 'ch7_Seq6', 'chapter_7', 'ch6_Seq2', 'ch6_Seq3',\n",
       "       'ch6_Seq4', 'ch6_Seq5', 'ch6_Seq6', 'ch6_Seq7', 'ch6_Seq8',\n",
       "       'ch6_Seq11', 'ch6_Seq12', 'ch6_Seq9', 'ch6_Seq10', 'ch7_Seq3',\n",
       "       'ch7_Seq4', 'ch8_Seq1', 'ch8_Seq2', 'ch8_Seq3', 'ch8_Seq4',\n",
       "       'ch8_Seq6', 'ch8_Seq8', 'ch9_Seq1', 'ch9_Seq2', 'ch9_Seq3',\n",
       "       'ch9_Seq4', 'ch10_Seq1', 'ch10_Seq2', 'ch10_Seq3', 'ch10_Seq4',\n",
       "       'ch10_Seq5', 'ch10_Seq6', 'chapter_10', 'ch10_Seq7',\n",
       "       'courseware_2b49dac3fe26410780b547bc880facb3'], dtype=object)"
      ]
     },
     "execution_count": 10,
     "metadata": {},
     "output_type": "execute_result"
    }
   ],
   "source": [
    "mooc.event_type.unique()"
   ]
  },
  {
   "cell_type": "code",
   "execution_count": 7,
   "metadata": {},
   "outputs": [
    {
     "data": {
      "text/plain": [
       "(14308273, 19)"
      ]
     },
     "execution_count": 7,
     "metadata": {},
     "output_type": "execute_result"
    }
   ],
   "source": [
    "#14308273\n",
    "mooc.shape"
   ]
  },
  {
   "cell_type": "code",
   "execution_count": 8,
   "metadata": {},
   "outputs": [
    {
     "data": {
      "text/plain": [
       "32185"
      ]
     },
     "execution_count": 8,
     "metadata": {},
     "output_type": "execute_result"
    }
   ],
   "source": [
    "mooc.index.nunique()"
   ]
  },
  {
   "cell_type": "markdown",
   "metadata": {},
   "source": [
    "# Export a leraner traces ---> EXCEL"
   ]
  },
  {
   "cell_type": "code",
   "execution_count": 221,
   "metadata": {},
   "outputs": [],
   "source": [
    "ex=pd.ExcelWriter('learner_traces_ae.xlsx')\n",
    "mooc[mooc.index==\"01658f96b9cbde61b5ae742a9b062991a99524ae\"].to_excel(ex,sheet_name=\"learner\")\n",
    "ex.save()"
   ]
  },
  {
   "cell_type": "code",
   "execution_count": null,
   "metadata": {
    "collapsed": true
   },
   "outputs": [],
   "source": []
  },
  {
   "cell_type": "markdown",
   "metadata": {},
   "source": [
    "# Memory optimisation"
   ]
  },
  {
   "cell_type": "code",
   "execution_count": 20,
   "metadata": {
    "collapsed": true
   },
   "outputs": [],
   "source": [
    "mooc.ip_country=mooc.ip_country.astype('category')\n",
    "mooc.event_type=mooc.event_type.astype('category')"
   ]
  },
  {
   "cell_type": "code",
   "execution_count": 21,
   "metadata": {},
   "outputs": [
    {
     "name": "stderr",
     "output_type": "stream",
     "text": [
      "C:\\Users\\lenovo\\Anaconda3\\lib\\site-packages\\ipykernel_launcher.py:2: DeprecationWarning: \n",
      ".ix is deprecated. Please use\n",
      ".loc for label based indexing or\n",
      ".iloc for positional indexing\n",
      "\n",
      "See the documentation here:\n",
      "http://pandas.pydata.org/pandas-docs/stable/indexing.html#ix-indexer-is-deprecated\n",
      "  \n"
     ]
    }
   ],
   "source": [
    "mask_time=mooc.event_duration>1800\n",
    "mooc.ix[mask_time,'event_duration']=1800"
   ]
  },
  {
   "cell_type": "markdown",
   "metadata": {
    "collapsed": true
   },
   "source": [
    "# Active LS"
   ]
  },
  {
   "cell_type": "markdown",
   "metadata": {},
   "source": [
    "## Features"
   ]
  },
  {
   "cell_type": "code",
   "execution_count": 18,
   "metadata": {},
   "outputs": [],
   "source": [
    "problem_name=['1.2.R1', '1.2.R2', '2.Q.1', '2.Q.3', '2.Q.2', '2.Q.4', '2.1 R1',\n",
    "       '2.R.R1', '2.2 R1', '2.2 R2', '2.3 R1', '2.4.R1', 'Chapter 2 Quiz',\n",
    "       'Ch3 Quiz Questions', 'Multiple Choice', '3.1.R1', '3.1.R2',\n",
    "       '7.R.R1', '7.R.R2', '3.R.R1', '5.R.R1', '5.R.R2', '5.R.R3',\n",
    "       '5.R.R4', '3.2.R1', '3.2.R2', '3.3.R1', '3.4.R1', '3.4.R2',\n",
    "       '3.5.R1', '3.5.R2', 'Chapter 3 Quiz', '8.R.R1', '9.R.1', '9.R.2',\n",
    "       '9.R.3', '3.1 Review Questions', '8.4.R1', '8.4.R2', '7.1.R1',\n",
    "       '7.2.R1', '7.2.R2', '9.Q.1', '4.1 R1', '4.1 R2', '4.2.R1', '4.3.R1',\n",
    "       '4.3.R2', '4.Q.1', '4.4 R1', '4.5 R1', '4.6.R1', '4.7.R1', '4.8.R1',\n",
    "       '4.R.R1', 'Chapter 4 Quiz', '5.1.R1', '5.1.R2', '5.2.R1', '5.3.R1',\n",
    "       '5.4.R1', '5.Q.2', '5.Q.1', '5.5.R1', 'Chapter 5 Quiz', ' 6.Q.1',\n",
    "       '6.Q.2', '6.Q.3', '6.Q.4', '6.Q.5', '7.Q.1', '6.1.R1', '6.2.R1',\n",
    "       '6.2.R2', '6.3.R1', '6.3.R2', '6.4.R1', '6.5.R1', '6.6.R1',\n",
    "       '6.6.R2', '6.7 R1', '6.10.R1', '6.R.R1', '6.8 R1', '6.9.R1',\n",
    "       'Chapter 6 Quiz', '7.3.R1', '7.4.R1', 'Chapter 7 Quiz', '8.1.R1',\n",
    "       '8.2.R1', '8.3.R1', '8.3.R2', '8.5.R1', '8.Q1', '8.Q2', '8.Q3',\n",
    "       'Chapter 8 Quiz', '9.1.R1', '9.2.R1', '9.3.R2', '9.3.R1', '9.4.R1',\n",
    "       'Chapter 9 Quiz', '10.1.R1', '10.2.R1', '10.3.R1', '10.4.R1',\n",
    "       '10.5.R1', '10.Q.1', '10.R.1', '10.R.2', '10.R.3', 'Chapter 10 Quiz']"
   ]
  },
  {
   "cell_type": "code",
   "execution_count": 27,
   "metadata": {},
   "outputs": [
    {
     "data": {
      "text/plain": [
       "114"
      ]
     },
     "execution_count": 27,
     "metadata": {},
     "output_type": "execute_result"
    }
   ],
   "source": [
    "len(problem_name)"
   ]
  },
  {
   "cell_type": "markdown",
   "metadata": {},
   "source": [
    "### Features base"
   ]
  },
  {
   "cell_type": "code",
   "execution_count": 81,
   "metadata": {},
   "outputs": [
    {
     "name": "stderr",
     "output_type": "stream",
     "text": [
      "C:\\Users\\lenovo\\Anaconda3\\lib\\site-packages\\pandas\\core\\groupby.py:4036: FutureWarning: using a dict with renaming is deprecated and will be removed in a future version\n",
      "  return super(DataFrameGroupBy, self).aggregate(arg, *args, **kwargs)\n"
     ]
    },
    {
     "data": {
      "text/html": [
       "<div>\n",
       "<style>\n",
       "    .dataframe thead tr:only-child th {\n",
       "        text-align: right;\n",
       "    }\n",
       "\n",
       "    .dataframe thead th {\n",
       "        text-align: left;\n",
       "    }\n",
       "\n",
       "    .dataframe tbody tr th {\n",
       "        vertical-align: top;\n",
       "    }\n",
       "</style>\n",
       "<table border=\"1\" class=\"dataframe\">\n",
       "  <thead>\n",
       "    <tr style=\"text-align: right;\">\n",
       "      <th></th>\n",
       "      <th>nbr_events</th>\n",
       "      <th>nbr_pause_video</th>\n",
       "      <th>nbr_sessions</th>\n",
       "      <th>nbr_problem_visit</th>\n",
       "      <th>nbr_week</th>\n",
       "      <th>nbr_forum_post</th>\n",
       "    </tr>\n",
       "    <tr>\n",
       "      <th>anon_screen_name</th>\n",
       "      <th></th>\n",
       "      <th></th>\n",
       "      <th></th>\n",
       "      <th></th>\n",
       "      <th></th>\n",
       "      <th></th>\n",
       "    </tr>\n",
       "  </thead>\n",
       "  <tbody>\n",
       "    <tr>\n",
       "      <th>000319dcc413983e25dee182bae7b1d76ebe8d9b</th>\n",
       "      <td>15</td>\n",
       "      <td>2</td>\n",
       "      <td>1</td>\n",
       "      <td>0</td>\n",
       "      <td>1.0</td>\n",
       "      <td>0</td>\n",
       "    </tr>\n",
       "    <tr>\n",
       "      <th>0003ece6f51872662ee9b366cd2a72434e01a139</th>\n",
       "      <td>382</td>\n",
       "      <td>32</td>\n",
       "      <td>93</td>\n",
       "      <td>6</td>\n",
       "      <td>1.0</td>\n",
       "      <td>0</td>\n",
       "    </tr>\n",
       "    <tr>\n",
       "      <th>00042c13310b03b6fc30c30c34efd2ad127517be</th>\n",
       "      <td>99</td>\n",
       "      <td>9</td>\n",
       "      <td>1</td>\n",
       "      <td>5</td>\n",
       "      <td>1.0</td>\n",
       "      <td>0</td>\n",
       "    </tr>\n",
       "    <tr>\n",
       "      <th>00055cea4f5db0c8569127d8ac89a7d130c730cf</th>\n",
       "      <td>2214</td>\n",
       "      <td>309</td>\n",
       "      <td>13</td>\n",
       "      <td>23</td>\n",
       "      <td>5.0</td>\n",
       "      <td>0</td>\n",
       "    </tr>\n",
       "    <tr>\n",
       "      <th>0007c3a1163a8b19781443bde21b785900f56814</th>\n",
       "      <td>127</td>\n",
       "      <td>9</td>\n",
       "      <td>2</td>\n",
       "      <td>3</td>\n",
       "      <td>1.0</td>\n",
       "      <td>0</td>\n",
       "    </tr>\n",
       "  </tbody>\n",
       "</table>\n",
       "</div>"
      ],
      "text/plain": [
       "                                          nbr_events  nbr_pause_video  \\\n",
       "anon_screen_name                                                        \n",
       "000319dcc413983e25dee182bae7b1d76ebe8d9b          15                2   \n",
       "0003ece6f51872662ee9b366cd2a72434e01a139         382               32   \n",
       "00042c13310b03b6fc30c30c34efd2ad127517be          99                9   \n",
       "00055cea4f5db0c8569127d8ac89a7d130c730cf        2214              309   \n",
       "0007c3a1163a8b19781443bde21b785900f56814         127                9   \n",
       "\n",
       "                                          nbr_sessions  nbr_problem_visit  \\\n",
       "anon_screen_name                                                            \n",
       "000319dcc413983e25dee182bae7b1d76ebe8d9b             1                  0   \n",
       "0003ece6f51872662ee9b366cd2a72434e01a139            93                  6   \n",
       "00042c13310b03b6fc30c30c34efd2ad127517be             1                  5   \n",
       "00055cea4f5db0c8569127d8ac89a7d130c730cf            13                 23   \n",
       "0007c3a1163a8b19781443bde21b785900f56814             2                  3   \n",
       "\n",
       "                                          nbr_week  nbr_forum_post  \n",
       "anon_screen_name                                                    \n",
       "000319dcc413983e25dee182bae7b1d76ebe8d9b       1.0               0  \n",
       "0003ece6f51872662ee9b366cd2a72434e01a139       1.0               0  \n",
       "00042c13310b03b6fc30c30c34efd2ad127517be       1.0               0  \n",
       "00055cea4f5db0c8569127d8ac89a7d130c730cf       5.0               0  \n",
       "0007c3a1163a8b19781443bde21b785900f56814       1.0               0  "
      ]
     },
     "execution_count": 81,
     "metadata": {},
     "output_type": "execute_result"
    }
   ],
   "source": [
    "learners=mooc.groupby(\"anon_screen_name\")\n",
    "A_agg_learner=learners.agg({'event_type':{\n",
    "        'nbr_events':lambda x:x.count(),\n",
    "        'nbr_pause_video':lambda x: (x == 'pause_video').sum(),         \n",
    "        'forum_thread_reply':lambda x: (x == 'thread_reply').sum(),\n",
    "        'forum_comment_reply':lambda x: (x == 'comment_reply').sum(),\n",
    "        'forum_thread_update':lambda x: (x == 'thread_update').sum(),\n",
    "        'forum_comment_update':lambda x: (x == 'comment_update').sum()\n",
    "},\n",
    "'nbr_session':{\n",
    "    'nbr_sessions':lambda x:x.max()+1\n",
    "},'resource_display_name':{\n",
    "    'nbr_problem_visit':lambda x: x[x.isin(problem_name)].nunique()\n",
    "},'week':{\n",
    "    'nbr_week':lambda x:x.nunique()\n",
    "}                       \n",
    "                           })  \n",
    "A_agg_learner.columns = A_agg_learner.columns.droplevel()\n",
    "\n",
    "A_agg_learner['nbr_forum_post_update']=A_agg_learner.forum_thread_update +  A_agg_learner.forum_comment_update\n",
    "A_agg_learner['nbr_forum_post_reply']=A_agg_learner.forum_thread_reply + A_agg_learner.forum_comment_reply\n",
    "A_agg_learner['nbr_forum_post']=A_agg_learner.nbr_forum_post_update + A_agg_learner.nbr_forum_post_reply\n",
    "A_agg_learner.drop('forum_thread_update', axis=1, inplace=True)\n",
    "A_agg_learner.drop('forum_comment_update', axis=1, inplace=True)\n",
    "A_agg_learner.drop('forum_thread_reply', axis=1, inplace=True)\n",
    "A_agg_learner.drop('forum_comment_reply', axis=1, inplace=True)\n",
    "A_agg_learner.drop('nbr_forum_post_reply', axis=1, inplace=True)\n",
    "A_agg_learner.drop('nbr_forum_post_update', axis=1, inplace=True)\n",
    "# ActiveLS=A_agg_learner\n",
    "A_agg_learner.head()"
   ]
  },
  {
   "cell_type": "code",
   "execution_count": 82,
   "metadata": {},
   "outputs": [
    {
     "data": {
      "text/html": [
       "<div>\n",
       "<style>\n",
       "    .dataframe thead tr:only-child th {\n",
       "        text-align: right;\n",
       "    }\n",
       "\n",
       "    .dataframe thead th {\n",
       "        text-align: left;\n",
       "    }\n",
       "\n",
       "    .dataframe tbody tr th {\n",
       "        vertical-align: top;\n",
       "    }\n",
       "</style>\n",
       "<table border=\"1\" class=\"dataframe\">\n",
       "  <thead>\n",
       "    <tr style=\"text-align: right;\">\n",
       "      <th></th>\n",
       "      <th>nbr_events</th>\n",
       "      <th>nbr_pause_video</th>\n",
       "      <th>nbr_sessions</th>\n",
       "      <th>nbr_problem_visit</th>\n",
       "      <th>nbr_week</th>\n",
       "      <th>nbr_forum_post</th>\n",
       "    </tr>\n",
       "    <tr>\n",
       "      <th>anon_screen_name</th>\n",
       "      <th></th>\n",
       "      <th></th>\n",
       "      <th></th>\n",
       "      <th></th>\n",
       "      <th></th>\n",
       "      <th></th>\n",
       "    </tr>\n",
       "  </thead>\n",
       "  <tbody>\n",
       "    <tr>\n",
       "      <th>f9821c3276134b55f6364309ddb9d8aa21149e9e</th>\n",
       "      <td>4265</td>\n",
       "      <td>1071</td>\n",
       "      <td>65</td>\n",
       "      <td>103</td>\n",
       "      <td>9.0</td>\n",
       "      <td>0</td>\n",
       "    </tr>\n",
       "  </tbody>\n",
       "</table>\n",
       "</div>"
      ],
      "text/plain": [
       "                                          nbr_events  nbr_pause_video  \\\n",
       "anon_screen_name                                                        \n",
       "f9821c3276134b55f6364309ddb9d8aa21149e9e        4265             1071   \n",
       "\n",
       "                                          nbr_sessions  nbr_problem_visit  \\\n",
       "anon_screen_name                                                            \n",
       "f9821c3276134b55f6364309ddb9d8aa21149e9e            65                103   \n",
       "\n",
       "                                          nbr_week  nbr_forum_post  \n",
       "anon_screen_name                                                    \n",
       "f9821c3276134b55f6364309ddb9d8aa21149e9e       9.0               0  "
      ]
     },
     "execution_count": 82,
     "metadata": {},
     "output_type": "execute_result"
    }
   ],
   "source": [
    "A_agg_learner[A_agg_learner.index==\"f9821c3276134b55f6364309ddb9d8aa21149e9e\"]"
   ]
  },
  {
   "cell_type": "markdown",
   "metadata": {},
   "source": [
    "### problem_stay"
   ]
  },
  {
   "cell_type": "code",
   "execution_count": 83,
   "metadata": {},
   "outputs": [
    {
     "name": "stderr",
     "output_type": "stream",
     "text": [
      "C:\\Users\\lenovo\\Anaconda3\\lib\\site-packages\\pandas\\core\\groupby.py:4036: FutureWarning: using a dict with renaming is deprecated and will be removed in a future version\n",
      "  return super(DataFrameGroupBy, self).aggregate(arg, *args, **kwargs)\n"
     ]
    },
    {
     "data": {
      "text/html": [
       "<div>\n",
       "<style>\n",
       "    .dataframe thead tr:only-child th {\n",
       "        text-align: right;\n",
       "    }\n",
       "\n",
       "    .dataframe thead th {\n",
       "        text-align: left;\n",
       "    }\n",
       "\n",
       "    .dataframe tbody tr th {\n",
       "        vertical-align: top;\n",
       "    }\n",
       "</style>\n",
       "<table border=\"1\" class=\"dataframe\">\n",
       "  <thead>\n",
       "    <tr style=\"text-align: right;\">\n",
       "      <th></th>\n",
       "      <th>problem_stay</th>\n",
       "    </tr>\n",
       "    <tr>\n",
       "      <th>anon_screen_name</th>\n",
       "      <th></th>\n",
       "    </tr>\n",
       "  </thead>\n",
       "  <tbody>\n",
       "    <tr>\n",
       "      <th>0003ece6f51872662ee9b366cd2a72434e01a139</th>\n",
       "      <td>22.0</td>\n",
       "    </tr>\n",
       "    <tr>\n",
       "      <th>00042c13310b03b6fc30c30c34efd2ad127517be</th>\n",
       "      <td>62.0</td>\n",
       "    </tr>\n",
       "    <tr>\n",
       "      <th>00055cea4f5db0c8569127d8ac89a7d130c730cf</th>\n",
       "      <td>514.0</td>\n",
       "    </tr>\n",
       "    <tr>\n",
       "      <th>0007c3a1163a8b19781443bde21b785900f56814</th>\n",
       "      <td>127.0</td>\n",
       "    </tr>\n",
       "    <tr>\n",
       "      <th>00142b5b7e9b7c3475c56f8949e7242dd0737fd1</th>\n",
       "      <td>2695.0</td>\n",
       "    </tr>\n",
       "  </tbody>\n",
       "</table>\n",
       "</div>"
      ],
      "text/plain": [
       "                                          problem_stay\n",
       "anon_screen_name                                      \n",
       "0003ece6f51872662ee9b366cd2a72434e01a139          22.0\n",
       "00042c13310b03b6fc30c30c34efd2ad127517be          62.0\n",
       "00055cea4f5db0c8569127d8ac89a7d130c730cf         514.0\n",
       "0007c3a1163a8b19781443bde21b785900f56814         127.0\n",
       "00142b5b7e9b7c3475c56f8949e7242dd0737fd1        2695.0"
      ]
     },
     "execution_count": 83,
     "metadata": {},
     "output_type": "execute_result"
    }
   ],
   "source": [
    "mooc_problem= mooc[mooc.event_type=='problem_get']\n",
    "learners_problem=mooc_problem.groupby(\"anon_screen_name\")\n",
    "\n",
    "A_problem_stay=learners_problem.agg({'event_duration':{\n",
    "        'problem_stay':lambda x: x.sum()     \n",
    "}})\n",
    "\n",
    "# problem stay\n",
    "A_problem_stay.columns = A_problem_stay.columns.droplevel()\n",
    "A_problem_stay.head()"
   ]
  },
  {
   "cell_type": "code",
   "execution_count": null,
   "metadata": {
    "collapsed": true
   },
   "outputs": [],
   "source": []
  },
  {
   "cell_type": "markdown",
   "metadata": {},
   "source": [
    "### problem_submit"
   ]
  },
  {
   "cell_type": "code",
   "execution_count": 84,
   "metadata": {},
   "outputs": [
    {
     "name": "stderr",
     "output_type": "stream",
     "text": [
      "C:\\Users\\lenovo\\Anaconda3\\lib\\site-packages\\pandas\\core\\groupby.py:4036: FutureWarning: using a dict with renaming is deprecated and will be removed in a future version\n",
      "  return super(DataFrameGroupBy, self).aggregate(arg, *args, **kwargs)\n"
     ]
    },
    {
     "data": {
      "text/html": [
       "<div>\n",
       "<style>\n",
       "    .dataframe thead tr:only-child th {\n",
       "        text-align: right;\n",
       "    }\n",
       "\n",
       "    .dataframe thead th {\n",
       "        text-align: left;\n",
       "    }\n",
       "\n",
       "    .dataframe tbody tr th {\n",
       "        vertical-align: top;\n",
       "    }\n",
       "</style>\n",
       "<table border=\"1\" class=\"dataframe\">\n",
       "  <thead>\n",
       "    <tr style=\"text-align: right;\">\n",
       "      <th></th>\n",
       "      <th>nbr_problem_submit</th>\n",
       "    </tr>\n",
       "    <tr>\n",
       "      <th>anon_screen_name</th>\n",
       "      <th></th>\n",
       "    </tr>\n",
       "  </thead>\n",
       "  <tbody>\n",
       "    <tr>\n",
       "      <th>00042c13310b03b6fc30c30c34efd2ad127517be</th>\n",
       "      <td>5</td>\n",
       "    </tr>\n",
       "    <tr>\n",
       "      <th>00055cea4f5db0c8569127d8ac89a7d130c730cf</th>\n",
       "      <td>20</td>\n",
       "    </tr>\n",
       "    <tr>\n",
       "      <th>0007c3a1163a8b19781443bde21b785900f56814</th>\n",
       "      <td>3</td>\n",
       "    </tr>\n",
       "    <tr>\n",
       "      <th>00142b5b7e9b7c3475c56f8949e7242dd0737fd1</th>\n",
       "      <td>41</td>\n",
       "    </tr>\n",
       "    <tr>\n",
       "      <th>001696bee8d6ca595cae2b43941f267d3192fb1f</th>\n",
       "      <td>102</td>\n",
       "    </tr>\n",
       "  </tbody>\n",
       "</table>\n",
       "</div>"
      ],
      "text/plain": [
       "                                          nbr_problem_submit\n",
       "anon_screen_name                                            \n",
       "00042c13310b03b6fc30c30c34efd2ad127517be                   5\n",
       "00055cea4f5db0c8569127d8ac89a7d130c730cf                  20\n",
       "0007c3a1163a8b19781443bde21b785900f56814                   3\n",
       "00142b5b7e9b7c3475c56f8949e7242dd0737fd1                  41\n",
       "001696bee8d6ca595cae2b43941f267d3192fb1f                 102"
      ]
     },
     "execution_count": 84,
     "metadata": {},
     "output_type": "execute_result"
    }
   ],
   "source": [
    "prb_submit= mooc[mooc.event_type==\"problem_check\"]\n",
    "learners_prb_submit=prb_submit.groupby(\"anon_screen_name\")\n",
    "\n",
    "nbr_problem_submit=learners_prb_submit.agg({'resource_display_name':{\n",
    "        'nbr_problem_submit':lambda x: x.nunique()     \n",
    "}})\n",
    "\n",
    "# problem submit\n",
    "nbr_problem_submit.columns = nbr_problem_submit.columns.droplevel()\n",
    "nbr_problem_submit.head()"
   ]
  },
  {
   "cell_type": "code",
   "execution_count": 85,
   "metadata": {},
   "outputs": [
    {
     "data": {
      "text/html": [
       "<div>\n",
       "<style>\n",
       "    .dataframe thead tr:only-child th {\n",
       "        text-align: right;\n",
       "    }\n",
       "\n",
       "    .dataframe thead th {\n",
       "        text-align: left;\n",
       "    }\n",
       "\n",
       "    .dataframe tbody tr th {\n",
       "        vertical-align: top;\n",
       "    }\n",
       "</style>\n",
       "<table border=\"1\" class=\"dataframe\">\n",
       "  <thead>\n",
       "    <tr style=\"text-align: right;\">\n",
       "      <th></th>\n",
       "      <th>nbr_problem_submit</th>\n",
       "    </tr>\n",
       "    <tr>\n",
       "      <th>anon_screen_name</th>\n",
       "      <th></th>\n",
       "    </tr>\n",
       "  </thead>\n",
       "  <tbody>\n",
       "    <tr>\n",
       "      <th>00142b5b7e9b7c3475c56f8949e7242dd0737fd1</th>\n",
       "      <td>41</td>\n",
       "    </tr>\n",
       "  </tbody>\n",
       "</table>\n",
       "</div>"
      ],
      "text/plain": [
       "                                          nbr_problem_submit\n",
       "anon_screen_name                                            \n",
       "00142b5b7e9b7c3475c56f8949e7242dd0737fd1                  41"
      ]
     },
     "execution_count": 85,
     "metadata": {},
     "output_type": "execute_result"
    }
   ],
   "source": [
    "nbr_problem_submit[nbr_problem_submit.index==\"00142b5b7e9b7c3475c56f8949e7242dd0737fd1\"]"
   ]
  },
  {
   "cell_type": "markdown",
   "metadata": {},
   "source": [
    "### Aggregation "
   ]
  },
  {
   "cell_type": "code",
   "execution_count": 86,
   "metadata": {},
   "outputs": [
    {
     "data": {
      "text/html": [
       "<div>\n",
       "<style>\n",
       "    .dataframe thead tr:only-child th {\n",
       "        text-align: right;\n",
       "    }\n",
       "\n",
       "    .dataframe thead th {\n",
       "        text-align: left;\n",
       "    }\n",
       "\n",
       "    .dataframe tbody tr th {\n",
       "        vertical-align: top;\n",
       "    }\n",
       "</style>\n",
       "<table border=\"1\" class=\"dataframe\">\n",
       "  <thead>\n",
       "    <tr style=\"text-align: right;\">\n",
       "      <th></th>\n",
       "      <th>anon_screen_name</th>\n",
       "      <th>nbr_events</th>\n",
       "      <th>nbr_pause_video</th>\n",
       "      <th>nbr_sessions</th>\n",
       "      <th>nbr_problem_visit</th>\n",
       "      <th>nbr_week</th>\n",
       "      <th>nbr_forum_post</th>\n",
       "      <th>problem_stay</th>\n",
       "      <th>nbr_problem_submit</th>\n",
       "    </tr>\n",
       "  </thead>\n",
       "  <tbody>\n",
       "    <tr>\n",
       "      <th>0</th>\n",
       "      <td>000319dcc413983e25dee182bae7b1d76ebe8d9b</td>\n",
       "      <td>15</td>\n",
       "      <td>2</td>\n",
       "      <td>1</td>\n",
       "      <td>0</td>\n",
       "      <td>1.0</td>\n",
       "      <td>0</td>\n",
       "      <td>NaN</td>\n",
       "      <td>NaN</td>\n",
       "    </tr>\n",
       "    <tr>\n",
       "      <th>1</th>\n",
       "      <td>0003ece6f51872662ee9b366cd2a72434e01a139</td>\n",
       "      <td>382</td>\n",
       "      <td>32</td>\n",
       "      <td>93</td>\n",
       "      <td>6</td>\n",
       "      <td>1.0</td>\n",
       "      <td>0</td>\n",
       "      <td>22.0</td>\n",
       "      <td>NaN</td>\n",
       "    </tr>\n",
       "    <tr>\n",
       "      <th>2</th>\n",
       "      <td>00042c13310b03b6fc30c30c34efd2ad127517be</td>\n",
       "      <td>99</td>\n",
       "      <td>9</td>\n",
       "      <td>1</td>\n",
       "      <td>5</td>\n",
       "      <td>1.0</td>\n",
       "      <td>0</td>\n",
       "      <td>62.0</td>\n",
       "      <td>5.0</td>\n",
       "    </tr>\n",
       "    <tr>\n",
       "      <th>3</th>\n",
       "      <td>00055cea4f5db0c8569127d8ac89a7d130c730cf</td>\n",
       "      <td>2214</td>\n",
       "      <td>309</td>\n",
       "      <td>13</td>\n",
       "      <td>23</td>\n",
       "      <td>5.0</td>\n",
       "      <td>0</td>\n",
       "      <td>514.0</td>\n",
       "      <td>20.0</td>\n",
       "    </tr>\n",
       "    <tr>\n",
       "      <th>4</th>\n",
       "      <td>0007c3a1163a8b19781443bde21b785900f56814</td>\n",
       "      <td>127</td>\n",
       "      <td>9</td>\n",
       "      <td>2</td>\n",
       "      <td>3</td>\n",
       "      <td>1.0</td>\n",
       "      <td>0</td>\n",
       "      <td>127.0</td>\n",
       "      <td>3.0</td>\n",
       "    </tr>\n",
       "  </tbody>\n",
       "</table>\n",
       "</div>"
      ],
      "text/plain": [
       "                           anon_screen_name  nbr_events  nbr_pause_video  \\\n",
       "0  000319dcc413983e25dee182bae7b1d76ebe8d9b          15                2   \n",
       "1  0003ece6f51872662ee9b366cd2a72434e01a139         382               32   \n",
       "2  00042c13310b03b6fc30c30c34efd2ad127517be          99                9   \n",
       "3  00055cea4f5db0c8569127d8ac89a7d130c730cf        2214              309   \n",
       "4  0007c3a1163a8b19781443bde21b785900f56814         127                9   \n",
       "\n",
       "   nbr_sessions  nbr_problem_visit  nbr_week  nbr_forum_post  problem_stay  \\\n",
       "0             1                  0       1.0               0           NaN   \n",
       "1            93                  6       1.0               0          22.0   \n",
       "2             1                  5       1.0               0          62.0   \n",
       "3            13                 23       5.0               0         514.0   \n",
       "4             2                  3       1.0               0         127.0   \n",
       "\n",
       "   nbr_problem_submit  \n",
       "0                 NaN  \n",
       "1                 NaN  \n",
       "2                 5.0  \n",
       "3                20.0  \n",
       "4                 3.0  "
      ]
     },
     "execution_count": 86,
     "metadata": {},
     "output_type": "execute_result"
    }
   ],
   "source": [
    "A_agg_learner.reset_index(level=0, inplace=True)\n",
    "A_problem_stay.reset_index(level=0, inplace=True)\n",
    "nbr_problem_submit.reset_index(level=0, inplace=True)\n",
    "\n",
    "A_agg_learner=pd.merge(A_agg_learner, A_problem_stay,how='outer', on='anon_screen_name')\n",
    "A_LS=pd.merge(A_agg_learner, nbr_problem_submit,how='outer', on='anon_screen_name')\n",
    "\n",
    "\n",
    "# A_LS.set_index(\"anon_screen_name\",inplace=True)\n",
    "# A_LS['problem_stay_min']=A_LS.problem_stay/60\n",
    "# A_LS.drop('problem_stay', axis=1, inplace=True)\n",
    "# A_LS.fillna(value=0,inplace=True)\n",
    "A_LS.head()"
   ]
  },
  {
   "cell_type": "code",
   "execution_count": 87,
   "metadata": {},
   "outputs": [
    {
     "data": {
      "text/html": [
       "<div>\n",
       "<style>\n",
       "    .dataframe thead tr:only-child th {\n",
       "        text-align: right;\n",
       "    }\n",
       "\n",
       "    .dataframe thead th {\n",
       "        text-align: left;\n",
       "    }\n",
       "\n",
       "    .dataframe tbody tr th {\n",
       "        vertical-align: top;\n",
       "    }\n",
       "</style>\n",
       "<table border=\"1\" class=\"dataframe\">\n",
       "  <thead>\n",
       "    <tr style=\"text-align: right;\">\n",
       "      <th></th>\n",
       "      <th>nbr_events</th>\n",
       "      <th>nbr_pause_video</th>\n",
       "      <th>nbr_sessions</th>\n",
       "      <th>nbr_problem_visit</th>\n",
       "      <th>nbr_week</th>\n",
       "      <th>nbr_forum_post</th>\n",
       "      <th>nbr_problem_submit</th>\n",
       "      <th>problem_stay_min</th>\n",
       "    </tr>\n",
       "    <tr>\n",
       "      <th>anon_screen_name</th>\n",
       "      <th></th>\n",
       "      <th></th>\n",
       "      <th></th>\n",
       "      <th></th>\n",
       "      <th></th>\n",
       "      <th></th>\n",
       "      <th></th>\n",
       "      <th></th>\n",
       "    </tr>\n",
       "  </thead>\n",
       "  <tbody>\n",
       "    <tr>\n",
       "      <th>000319dcc413983e25dee182bae7b1d76ebe8d9b</th>\n",
       "      <td>15</td>\n",
       "      <td>2</td>\n",
       "      <td>1</td>\n",
       "      <td>0</td>\n",
       "      <td>1.0</td>\n",
       "      <td>0</td>\n",
       "      <td>0.0</td>\n",
       "      <td>0.000000</td>\n",
       "    </tr>\n",
       "    <tr>\n",
       "      <th>0003ece6f51872662ee9b366cd2a72434e01a139</th>\n",
       "      <td>382</td>\n",
       "      <td>32</td>\n",
       "      <td>93</td>\n",
       "      <td>6</td>\n",
       "      <td>1.0</td>\n",
       "      <td>0</td>\n",
       "      <td>0.0</td>\n",
       "      <td>0.366667</td>\n",
       "    </tr>\n",
       "    <tr>\n",
       "      <th>00042c13310b03b6fc30c30c34efd2ad127517be</th>\n",
       "      <td>99</td>\n",
       "      <td>9</td>\n",
       "      <td>1</td>\n",
       "      <td>5</td>\n",
       "      <td>1.0</td>\n",
       "      <td>0</td>\n",
       "      <td>5.0</td>\n",
       "      <td>1.033333</td>\n",
       "    </tr>\n",
       "    <tr>\n",
       "      <th>00055cea4f5db0c8569127d8ac89a7d130c730cf</th>\n",
       "      <td>2214</td>\n",
       "      <td>309</td>\n",
       "      <td>13</td>\n",
       "      <td>23</td>\n",
       "      <td>5.0</td>\n",
       "      <td>0</td>\n",
       "      <td>20.0</td>\n",
       "      <td>8.566667</td>\n",
       "    </tr>\n",
       "    <tr>\n",
       "      <th>0007c3a1163a8b19781443bde21b785900f56814</th>\n",
       "      <td>127</td>\n",
       "      <td>9</td>\n",
       "      <td>2</td>\n",
       "      <td>3</td>\n",
       "      <td>1.0</td>\n",
       "      <td>0</td>\n",
       "      <td>3.0</td>\n",
       "      <td>2.116667</td>\n",
       "    </tr>\n",
       "  </tbody>\n",
       "</table>\n",
       "</div>"
      ],
      "text/plain": [
       "                                          nbr_events  nbr_pause_video  \\\n",
       "anon_screen_name                                                        \n",
       "000319dcc413983e25dee182bae7b1d76ebe8d9b          15                2   \n",
       "0003ece6f51872662ee9b366cd2a72434e01a139         382               32   \n",
       "00042c13310b03b6fc30c30c34efd2ad127517be          99                9   \n",
       "00055cea4f5db0c8569127d8ac89a7d130c730cf        2214              309   \n",
       "0007c3a1163a8b19781443bde21b785900f56814         127                9   \n",
       "\n",
       "                                          nbr_sessions  nbr_problem_visit  \\\n",
       "anon_screen_name                                                            \n",
       "000319dcc413983e25dee182bae7b1d76ebe8d9b             1                  0   \n",
       "0003ece6f51872662ee9b366cd2a72434e01a139            93                  6   \n",
       "00042c13310b03b6fc30c30c34efd2ad127517be             1                  5   \n",
       "00055cea4f5db0c8569127d8ac89a7d130c730cf            13                 23   \n",
       "0007c3a1163a8b19781443bde21b785900f56814             2                  3   \n",
       "\n",
       "                                          nbr_week  nbr_forum_post  \\\n",
       "anon_screen_name                                                     \n",
       "000319dcc413983e25dee182bae7b1d76ebe8d9b       1.0               0   \n",
       "0003ece6f51872662ee9b366cd2a72434e01a139       1.0               0   \n",
       "00042c13310b03b6fc30c30c34efd2ad127517be       1.0               0   \n",
       "00055cea4f5db0c8569127d8ac89a7d130c730cf       5.0               0   \n",
       "0007c3a1163a8b19781443bde21b785900f56814       1.0               0   \n",
       "\n",
       "                                          nbr_problem_submit  problem_stay_min  \n",
       "anon_screen_name                                                                \n",
       "000319dcc413983e25dee182bae7b1d76ebe8d9b                 0.0          0.000000  \n",
       "0003ece6f51872662ee9b366cd2a72434e01a139                 0.0          0.366667  \n",
       "00042c13310b03b6fc30c30c34efd2ad127517be                 5.0          1.033333  \n",
       "00055cea4f5db0c8569127d8ac89a7d130c730cf                20.0          8.566667  \n",
       "0007c3a1163a8b19781443bde21b785900f56814                 3.0          2.116667  "
      ]
     },
     "execution_count": 87,
     "metadata": {},
     "output_type": "execute_result"
    }
   ],
   "source": [
    "A_LS.set_index(\"anon_screen_name\",inplace=True)\n",
    "A_LS.fillna(value=0,inplace=True)\n",
    "A_LS['problem_stay_min']=A_LS.problem_stay/60\n",
    "A_LS.drop('problem_stay', axis=1, inplace=True)\n",
    "A_LS.head()"
   ]
  },
  {
   "cell_type": "code",
   "execution_count": 88,
   "metadata": {},
   "outputs": [
    {
     "data": {
      "text/html": [
       "<div>\n",
       "<style>\n",
       "    .dataframe thead tr:only-child th {\n",
       "        text-align: right;\n",
       "    }\n",
       "\n",
       "    .dataframe thead th {\n",
       "        text-align: left;\n",
       "    }\n",
       "\n",
       "    .dataframe tbody tr th {\n",
       "        vertical-align: top;\n",
       "    }\n",
       "</style>\n",
       "<table border=\"1\" class=\"dataframe\">\n",
       "  <thead>\n",
       "    <tr style=\"text-align: right;\">\n",
       "      <th></th>\n",
       "      <th>nbr_events</th>\n",
       "      <th>nbr_pause_video</th>\n",
       "      <th>nbr_sessions</th>\n",
       "      <th>nbr_problem_visit</th>\n",
       "      <th>nbr_week</th>\n",
       "      <th>nbr_forum_post</th>\n",
       "      <th>nbr_problem_submit</th>\n",
       "      <th>problem_stay_min</th>\n",
       "      <th>avg_problem_submit</th>\n",
       "    </tr>\n",
       "    <tr>\n",
       "      <th>anon_screen_name</th>\n",
       "      <th></th>\n",
       "      <th></th>\n",
       "      <th></th>\n",
       "      <th></th>\n",
       "      <th></th>\n",
       "      <th></th>\n",
       "      <th></th>\n",
       "      <th></th>\n",
       "      <th></th>\n",
       "    </tr>\n",
       "  </thead>\n",
       "  <tbody>\n",
       "    <tr>\n",
       "      <th>000319dcc413983e25dee182bae7b1d76ebe8d9b</th>\n",
       "      <td>15</td>\n",
       "      <td>2</td>\n",
       "      <td>1</td>\n",
       "      <td>0</td>\n",
       "      <td>1.0</td>\n",
       "      <td>0</td>\n",
       "      <td>0.0</td>\n",
       "      <td>0.000000</td>\n",
       "      <td>0.000000</td>\n",
       "    </tr>\n",
       "    <tr>\n",
       "      <th>0003ece6f51872662ee9b366cd2a72434e01a139</th>\n",
       "      <td>382</td>\n",
       "      <td>32</td>\n",
       "      <td>93</td>\n",
       "      <td>6</td>\n",
       "      <td>1.0</td>\n",
       "      <td>0</td>\n",
       "      <td>0.0</td>\n",
       "      <td>0.366667</td>\n",
       "      <td>0.000000</td>\n",
       "    </tr>\n",
       "    <tr>\n",
       "      <th>00042c13310b03b6fc30c30c34efd2ad127517be</th>\n",
       "      <td>99</td>\n",
       "      <td>9</td>\n",
       "      <td>1</td>\n",
       "      <td>5</td>\n",
       "      <td>1.0</td>\n",
       "      <td>0</td>\n",
       "      <td>5.0</td>\n",
       "      <td>1.033333</td>\n",
       "      <td>1.000000</td>\n",
       "    </tr>\n",
       "    <tr>\n",
       "      <th>00055cea4f5db0c8569127d8ac89a7d130c730cf</th>\n",
       "      <td>2214</td>\n",
       "      <td>309</td>\n",
       "      <td>13</td>\n",
       "      <td>23</td>\n",
       "      <td>5.0</td>\n",
       "      <td>0</td>\n",
       "      <td>20.0</td>\n",
       "      <td>8.566667</td>\n",
       "      <td>0.869565</td>\n",
       "    </tr>\n",
       "    <tr>\n",
       "      <th>0007c3a1163a8b19781443bde21b785900f56814</th>\n",
       "      <td>127</td>\n",
       "      <td>9</td>\n",
       "      <td>2</td>\n",
       "      <td>3</td>\n",
       "      <td>1.0</td>\n",
       "      <td>0</td>\n",
       "      <td>3.0</td>\n",
       "      <td>2.116667</td>\n",
       "      <td>1.000000</td>\n",
       "    </tr>\n",
       "  </tbody>\n",
       "</table>\n",
       "</div>"
      ],
      "text/plain": [
       "                                          nbr_events  nbr_pause_video  \\\n",
       "anon_screen_name                                                        \n",
       "000319dcc413983e25dee182bae7b1d76ebe8d9b          15                2   \n",
       "0003ece6f51872662ee9b366cd2a72434e01a139         382               32   \n",
       "00042c13310b03b6fc30c30c34efd2ad127517be          99                9   \n",
       "00055cea4f5db0c8569127d8ac89a7d130c730cf        2214              309   \n",
       "0007c3a1163a8b19781443bde21b785900f56814         127                9   \n",
       "\n",
       "                                          nbr_sessions  nbr_problem_visit  \\\n",
       "anon_screen_name                                                            \n",
       "000319dcc413983e25dee182bae7b1d76ebe8d9b             1                  0   \n",
       "0003ece6f51872662ee9b366cd2a72434e01a139            93                  6   \n",
       "00042c13310b03b6fc30c30c34efd2ad127517be             1                  5   \n",
       "00055cea4f5db0c8569127d8ac89a7d130c730cf            13                 23   \n",
       "0007c3a1163a8b19781443bde21b785900f56814             2                  3   \n",
       "\n",
       "                                          nbr_week  nbr_forum_post  \\\n",
       "anon_screen_name                                                     \n",
       "000319dcc413983e25dee182bae7b1d76ebe8d9b       1.0               0   \n",
       "0003ece6f51872662ee9b366cd2a72434e01a139       1.0               0   \n",
       "00042c13310b03b6fc30c30c34efd2ad127517be       1.0               0   \n",
       "00055cea4f5db0c8569127d8ac89a7d130c730cf       5.0               0   \n",
       "0007c3a1163a8b19781443bde21b785900f56814       1.0               0   \n",
       "\n",
       "                                          nbr_problem_submit  \\\n",
       "anon_screen_name                                               \n",
       "000319dcc413983e25dee182bae7b1d76ebe8d9b                 0.0   \n",
       "0003ece6f51872662ee9b366cd2a72434e01a139                 0.0   \n",
       "00042c13310b03b6fc30c30c34efd2ad127517be                 5.0   \n",
       "00055cea4f5db0c8569127d8ac89a7d130c730cf                20.0   \n",
       "0007c3a1163a8b19781443bde21b785900f56814                 3.0   \n",
       "\n",
       "                                          problem_stay_min  avg_problem_submit  \n",
       "anon_screen_name                                                                \n",
       "000319dcc413983e25dee182bae7b1d76ebe8d9b          0.000000            0.000000  \n",
       "0003ece6f51872662ee9b366cd2a72434e01a139          0.366667            0.000000  \n",
       "00042c13310b03b6fc30c30c34efd2ad127517be          1.033333            1.000000  \n",
       "00055cea4f5db0c8569127d8ac89a7d130c730cf          8.566667            0.869565  \n",
       "0007c3a1163a8b19781443bde21b785900f56814          2.116667            1.000000  "
      ]
     },
     "execution_count": 88,
     "metadata": {},
     "output_type": "execute_result"
    }
   ],
   "source": [
    "A_LS['avg_problem_submit']=A_LS.nbr_problem_submit/A_LS.nbr_problem_visit\n",
    "A_LS.fillna(value=0,inplace=True)\n",
    "A_LS.head()"
   ]
  },
  {
   "cell_type": "code",
   "execution_count": 89,
   "metadata": {
    "collapsed": true
   },
   "outputs": [],
   "source": [
    "A_LS=A_LS[['nbr_events','nbr_week','nbr_pause_video','nbr_problem_visit','problem_stay_min','nbr_problem_submit',\n",
    "           'avg_problem_submit','nbr_forum_post','nbr_sessions',\n",
    "           ]]"
   ]
  },
  {
   "cell_type": "code",
   "execution_count": 157,
   "metadata": {},
   "outputs": [
    {
     "data": {
      "text/plain": [
       "<matplotlib.axes._subplots.AxesSubplot at 0x11f96a12a20>"
      ]
     },
     "execution_count": 157,
     "metadata": {},
     "output_type": "execute_result"
    },
    {
     "data": {
      "image/png": "[encoded data removed]",
      "text/plain": [
       "<matplotlib.figure.Figure at 0x11f5da98748>"
      ]
     },
     "metadata": {},
     "output_type": "display_data"
    }
   ],
   "source": [
    "# A_LS.nbr_events.hist(bins=50)\n",
    "A_LS.nbr_week.hist(bins=50)"
   ]
  },
  {
   "cell_type": "markdown",
   "metadata": {},
   "source": [
    "# Outliers detection"
   ]
  },
  {
   "cell_type": "markdown",
   "metadata": {},
   "source": [
    "## Isolation Forest"
   ]
  },
  {
   "cell_type": "code",
   "execution_count": 141,
   "metadata": {},
   "outputs": [
    {
     "data": {
      "text/html": [
       "<div>\n",
       "<style>\n",
       "    .dataframe thead tr:only-child th {\n",
       "        text-align: right;\n",
       "    }\n",
       "\n",
       "    .dataframe thead th {\n",
       "        text-align: left;\n",
       "    }\n",
       "\n",
       "    .dataframe tbody tr th {\n",
       "        vertical-align: top;\n",
       "    }\n",
       "</style>\n",
       "<table border=\"1\" class=\"dataframe\">\n",
       "  <thead>\n",
       "    <tr style=\"text-align: right;\">\n",
       "      <th></th>\n",
       "      <th>nbr_events</th>\n",
       "      <th>nbr_week</th>\n",
       "    </tr>\n",
       "    <tr>\n",
       "      <th>anon_screen_name</th>\n",
       "      <th></th>\n",
       "      <th></th>\n",
       "    </tr>\n",
       "  </thead>\n",
       "  <tbody>\n",
       "    <tr>\n",
       "      <th>000319dcc413983e25dee182bae7b1d76ebe8d9b</th>\n",
       "      <td>15</td>\n",
       "      <td>1.0</td>\n",
       "    </tr>\n",
       "    <tr>\n",
       "      <th>0003ece6f51872662ee9b366cd2a72434e01a139</th>\n",
       "      <td>382</td>\n",
       "      <td>1.0</td>\n",
       "    </tr>\n",
       "    <tr>\n",
       "      <th>00042c13310b03b6fc30c30c34efd2ad127517be</th>\n",
       "      <td>99</td>\n",
       "      <td>1.0</td>\n",
       "    </tr>\n",
       "    <tr>\n",
       "      <th>00055cea4f5db0c8569127d8ac89a7d130c730cf</th>\n",
       "      <td>2214</td>\n",
       "      <td>5.0</td>\n",
       "    </tr>\n",
       "    <tr>\n",
       "      <th>0007c3a1163a8b19781443bde21b785900f56814</th>\n",
       "      <td>127</td>\n",
       "      <td>1.0</td>\n",
       "    </tr>\n",
       "  </tbody>\n",
       "</table>\n",
       "</div>"
      ],
      "text/plain": [
       "                                          nbr_events  nbr_week\n",
       "anon_screen_name                                              \n",
       "000319dcc413983e25dee182bae7b1d76ebe8d9b          15       1.0\n",
       "0003ece6f51872662ee9b366cd2a72434e01a139         382       1.0\n",
       "00042c13310b03b6fc30c30c34efd2ad127517be          99       1.0\n",
       "00055cea4f5db0c8569127d8ac89a7d130c730cf        2214       5.0\n",
       "0007c3a1163a8b19781443bde21b785900f56814         127       1.0"
      ]
     },
     "execution_count": 141,
     "metadata": {},
     "output_type": "execute_result"
    }
   ],
   "source": [
    "lr_traces=A_LS[['nbr_events','nbr_week']]\n",
    "lr_traces.head()"
   ]
  },
  {
   "cell_type": "code",
   "execution_count": 142,
   "metadata": {},
   "outputs": [
    {
     "name": "stdout",
     "output_type": "stream",
     "text": [
      "32181\n",
      "4\n"
     ]
    }
   ],
   "source": [
    "from sklearn import ensemble\n",
    "# A_LS.set_index(\"anon_screen_name\",inplace=True)\n",
    "\n",
    "active_anomaly_detector=ensemble.IsolationForest(contamination=0.0001)              \n",
    "active_anomaly_detector.fit(lr_traces)\n",
    "active_anomaly_prediction=active_anomaly_detector.predict(lr_traces)\n",
    "\n",
    "inliers = active_anomaly_prediction == 1  # select inliers\n",
    "print(len(active_anomaly_prediction[inliers]))\n",
    "\n",
    "outliers = active_anomaly_prediction == -1  # select outliers\n",
    "print(len(active_anomaly_prediction[outliers]))"
   ]
  },
  {
   "cell_type": "code",
   "execution_count": 143,
   "metadata": {},
   "outputs": [
    {
     "data": {
      "text/html": [
       "<div>\n",
       "<style>\n",
       "    .dataframe thead tr:only-child th {\n",
       "        text-align: right;\n",
       "    }\n",
       "\n",
       "    .dataframe thead th {\n",
       "        text-align: left;\n",
       "    }\n",
       "\n",
       "    .dataframe tbody tr th {\n",
       "        vertical-align: top;\n",
       "    }\n",
       "</style>\n",
       "<table border=\"1\" class=\"dataframe\">\n",
       "  <thead>\n",
       "    <tr style=\"text-align: right;\">\n",
       "      <th></th>\n",
       "      <th>outliers</th>\n",
       "    </tr>\n",
       "  </thead>\n",
       "  <tbody>\n",
       "    <tr>\n",
       "      <th>000319dcc413983e25dee182bae7b1d76ebe8d9b</th>\n",
       "      <td>1</td>\n",
       "    </tr>\n",
       "    <tr>\n",
       "      <th>0003ece6f51872662ee9b366cd2a72434e01a139</th>\n",
       "      <td>1</td>\n",
       "    </tr>\n",
       "    <tr>\n",
       "      <th>00042c13310b03b6fc30c30c34efd2ad127517be</th>\n",
       "      <td>1</td>\n",
       "    </tr>\n",
       "    <tr>\n",
       "      <th>00055cea4f5db0c8569127d8ac89a7d130c730cf</th>\n",
       "      <td>1</td>\n",
       "    </tr>\n",
       "    <tr>\n",
       "      <th>0007c3a1163a8b19781443bde21b785900f56814</th>\n",
       "      <td>1</td>\n",
       "    </tr>\n",
       "  </tbody>\n",
       "</table>\n",
       "</div>"
      ],
      "text/plain": [
       "                                          outliers\n",
       "000319dcc413983e25dee182bae7b1d76ebe8d9b         1\n",
       "0003ece6f51872662ee9b366cd2a72434e01a139         1\n",
       "00042c13310b03b6fc30c30c34efd2ad127517be         1\n",
       "00055cea4f5db0c8569127d8ac89a7d130c730cf         1\n",
       "0007c3a1163a8b19781443bde21b785900f56814         1"
      ]
     },
     "execution_count": 143,
     "metadata": {},
     "output_type": "execute_result"
    }
   ],
   "source": [
    "lr_traces.reset_index(level=0, inplace=True)\n",
    "index_list=list(lr_traces['anon_screen_name'])\n",
    "lr_list=dict(zip(index_list, active_anomaly_prediction))\n",
    "\n",
    "A_anomaly=pd.DataFrame.from_dict(lr_list, orient='index')\n",
    "A_anomaly.columns = ['outliers']\n",
    "A_anomaly.head()"
   ]
  },
  {
   "cell_type": "code",
   "execution_count": null,
   "metadata": {
    "collapsed": true
   },
   "outputs": [],
   "source": [
    "d6d0454b50adf5d40c30d30eb369e2b675eea67f"
   ]
  },
  {
   "cell_type": "code",
   "execution_count": 145,
   "metadata": {
    "collapsed": true
   },
   "outputs": [
    {
     "ename": "ValueError",
     "evalue": "Buffer has wrong number of dimensions (expected 1, got 2)",
     "output_type": "error",
     "traceback": [
      "\u001b[1;31m---------------------------------------------------------------------------\u001b[0m",
      "\u001b[1;31mValueError\u001b[0m                                Traceback (most recent call last)",
      "\u001b[1;32m<ipython-input-145-75050acb09ab>\u001b[0m in \u001b[0;36m<module>\u001b[1;34m()\u001b[0m\n\u001b[0;32m      2\u001b[0m \u001b[0mA_anomaly\u001b[0m\u001b[1;33m=\u001b[0m\u001b[0mA_anomaly\u001b[0m\u001b[1;33m.\u001b[0m\u001b[0mrename\u001b[0m\u001b[1;33m(\u001b[0m\u001b[0mcolumns\u001b[0m\u001b[1;33m=\u001b[0m\u001b[1;33m{\u001b[0m\u001b[1;34m'index'\u001b[0m\u001b[1;33m:\u001b[0m\u001b[1;34m'anon_screen_name'\u001b[0m\u001b[1;33m}\u001b[0m\u001b[1;33m)\u001b[0m\u001b[1;33m\u001b[0m\u001b[0m\n\u001b[0;32m      3\u001b[0m \u001b[1;33m\u001b[0m\u001b[0m\n\u001b[1;32m----> 4\u001b[1;33m \u001b[0mA_LS_anomaly\u001b[0m\u001b[1;33m=\u001b[0m\u001b[0mpd\u001b[0m\u001b[1;33m.\u001b[0m\u001b[0mmerge\u001b[0m\u001b[1;33m(\u001b[0m\u001b[0mlr_traces\u001b[0m\u001b[1;33m,\u001b[0m \u001b[0mA_anomaly\u001b[0m\u001b[1;33m,\u001b[0m \u001b[0mon\u001b[0m\u001b[1;33m=\u001b[0m\u001b[1;34m'anon_screen_name'\u001b[0m\u001b[1;33m)\u001b[0m\u001b[1;33m\u001b[0m\u001b[0m\n\u001b[0m\u001b[0;32m      5\u001b[0m \u001b[0mA_LS_anomaly\u001b[0m\u001b[1;33m.\u001b[0m\u001b[0mset_index\u001b[0m\u001b[1;33m(\u001b[0m\u001b[1;34m\"anon_screen_name\"\u001b[0m\u001b[1;33m,\u001b[0m\u001b[0minplace\u001b[0m\u001b[1;33m=\u001b[0m\u001b[1;32mTrue\u001b[0m\u001b[1;33m)\u001b[0m\u001b[1;33m\u001b[0m\u001b[0m\n\u001b[0;32m      6\u001b[0m \u001b[1;33m\u001b[0m\u001b[0m\n",
      "\u001b[1;32m~\\Anaconda3\\lib\\site-packages\\pandas\\core\\reshape\\merge.py\u001b[0m in \u001b[0;36mmerge\u001b[1;34m(left, right, how, on, left_on, right_on, left_index, right_index, sort, suffixes, copy, indicator)\u001b[0m\n\u001b[0;32m     52\u001b[0m                          \u001b[0mright_index\u001b[0m\u001b[1;33m=\u001b[0m\u001b[0mright_index\u001b[0m\u001b[1;33m,\u001b[0m \u001b[0msort\u001b[0m\u001b[1;33m=\u001b[0m\u001b[0msort\u001b[0m\u001b[1;33m,\u001b[0m \u001b[0msuffixes\u001b[0m\u001b[1;33m=\u001b[0m\u001b[0msuffixes\u001b[0m\u001b[1;33m,\u001b[0m\u001b[1;33m\u001b[0m\u001b[0m\n\u001b[0;32m     53\u001b[0m                          copy=copy, indicator=indicator)\n\u001b[1;32m---> 54\u001b[1;33m     \u001b[1;32mreturn\u001b[0m \u001b[0mop\u001b[0m\u001b[1;33m.\u001b[0m\u001b[0mget_result\u001b[0m\u001b[1;33m(\u001b[0m\u001b[1;33m)\u001b[0m\u001b[1;33m\u001b[0m\u001b[0m\n\u001b[0m\u001b[0;32m     55\u001b[0m \u001b[1;33m\u001b[0m\u001b[0m\n\u001b[0;32m     56\u001b[0m \u001b[1;33m\u001b[0m\u001b[0m\n",
      "\u001b[1;32m~\\Anaconda3\\lib\\site-packages\\pandas\\core\\reshape\\merge.py\u001b[0m in \u001b[0;36mget_result\u001b[1;34m(self)\u001b[0m\n\u001b[0;32m    567\u001b[0m                 self.left, self.right)\n\u001b[0;32m    568\u001b[0m \u001b[1;33m\u001b[0m\u001b[0m\n\u001b[1;32m--> 569\u001b[1;33m         \u001b[0mjoin_index\u001b[0m\u001b[1;33m,\u001b[0m \u001b[0mleft_indexer\u001b[0m\u001b[1;33m,\u001b[0m \u001b[0mright_indexer\u001b[0m \u001b[1;33m=\u001b[0m \u001b[0mself\u001b[0m\u001b[1;33m.\u001b[0m\u001b[0m_get_join_info\u001b[0m\u001b[1;33m(\u001b[0m\u001b[1;33m)\u001b[0m\u001b[1;33m\u001b[0m\u001b[0m\n\u001b[0m\u001b[0;32m    570\u001b[0m \u001b[1;33m\u001b[0m\u001b[0m\n\u001b[0;32m    571\u001b[0m         \u001b[0mldata\u001b[0m\u001b[1;33m,\u001b[0m \u001b[0mrdata\u001b[0m \u001b[1;33m=\u001b[0m \u001b[0mself\u001b[0m\u001b[1;33m.\u001b[0m\u001b[0mleft\u001b[0m\u001b[1;33m.\u001b[0m\u001b[0m_data\u001b[0m\u001b[1;33m,\u001b[0m \u001b[0mself\u001b[0m\u001b[1;33m.\u001b[0m\u001b[0mright\u001b[0m\u001b[1;33m.\u001b[0m\u001b[0m_data\u001b[0m\u001b[1;33m\u001b[0m\u001b[0m\n",
      "\u001b[1;32m~\\Anaconda3\\lib\\site-packages\\pandas\\core\\reshape\\merge.py\u001b[0m in \u001b[0;36m_get_join_info\u001b[1;34m(self)\u001b[0m\n\u001b[0;32m    732\u001b[0m         \u001b[1;32melse\u001b[0m\u001b[1;33m:\u001b[0m\u001b[1;33m\u001b[0m\u001b[0m\n\u001b[0;32m    733\u001b[0m             (left_indexer,\n\u001b[1;32m--> 734\u001b[1;33m              right_indexer) = self._get_join_indexers()\n\u001b[0m\u001b[0;32m    735\u001b[0m \u001b[1;33m\u001b[0m\u001b[0m\n\u001b[0;32m    736\u001b[0m             \u001b[1;32mif\u001b[0m \u001b[0mself\u001b[0m\u001b[1;33m.\u001b[0m\u001b[0mright_index\u001b[0m\u001b[1;33m:\u001b[0m\u001b[1;33m\u001b[0m\u001b[0m\n",
      "\u001b[1;32m~\\Anaconda3\\lib\\site-packages\\pandas\\core\\reshape\\merge.py\u001b[0m in \u001b[0;36m_get_join_indexers\u001b[1;34m(self)\u001b[0m\n\u001b[0;32m    711\u001b[0m                                   \u001b[0mself\u001b[0m\u001b[1;33m.\u001b[0m\u001b[0mright_join_keys\u001b[0m\u001b[1;33m,\u001b[0m\u001b[1;33m\u001b[0m\u001b[0m\n\u001b[0;32m    712\u001b[0m                                   \u001b[0msort\u001b[0m\u001b[1;33m=\u001b[0m\u001b[0mself\u001b[0m\u001b[1;33m.\u001b[0m\u001b[0msort\u001b[0m\u001b[1;33m,\u001b[0m\u001b[1;33m\u001b[0m\u001b[0m\n\u001b[1;32m--> 713\u001b[1;33m                                   how=self.how)\n\u001b[0m\u001b[0;32m    714\u001b[0m \u001b[1;33m\u001b[0m\u001b[0m\n\u001b[0;32m    715\u001b[0m     \u001b[1;32mdef\u001b[0m \u001b[0m_get_join_info\u001b[0m\u001b[1;33m(\u001b[0m\u001b[0mself\u001b[0m\u001b[1;33m)\u001b[0m\u001b[1;33m:\u001b[0m\u001b[1;33m\u001b[0m\u001b[0m\n",
      "\u001b[1;32m~\\Anaconda3\\lib\\site-packages\\pandas\\core\\reshape\\merge.py\u001b[0m in \u001b[0;36m_get_join_indexers\u001b[1;34m(left_keys, right_keys, sort, how, **kwargs)\u001b[0m\n\u001b[0;32m    980\u001b[0m \u001b[1;33m\u001b[0m\u001b[0m\n\u001b[0;32m    981\u001b[0m     \u001b[1;31m# get left & right join labels and num. of levels at each location\u001b[0m\u001b[1;33m\u001b[0m\u001b[1;33m\u001b[0m\u001b[0m\n\u001b[1;32m--> 982\u001b[1;33m     \u001b[0mllab\u001b[0m\u001b[1;33m,\u001b[0m \u001b[0mrlab\u001b[0m\u001b[1;33m,\u001b[0m \u001b[0mshape\u001b[0m \u001b[1;33m=\u001b[0m \u001b[0mmap\u001b[0m\u001b[1;33m(\u001b[0m\u001b[0mlist\u001b[0m\u001b[1;33m,\u001b[0m \u001b[0mzip\u001b[0m\u001b[1;33m(\u001b[0m\u001b[1;33m*\u001b[0m \u001b[0mmap\u001b[0m\u001b[1;33m(\u001b[0m\u001b[0mfkeys\u001b[0m\u001b[1;33m,\u001b[0m \u001b[0mleft_keys\u001b[0m\u001b[1;33m,\u001b[0m \u001b[0mright_keys\u001b[0m\u001b[1;33m)\u001b[0m\u001b[1;33m)\u001b[0m\u001b[1;33m)\u001b[0m\u001b[1;33m\u001b[0m\u001b[0m\n\u001b[0m\u001b[0;32m    983\u001b[0m \u001b[1;33m\u001b[0m\u001b[0m\n\u001b[0;32m    984\u001b[0m     \u001b[1;31m# get flat i8 keys from label lists\u001b[0m\u001b[1;33m\u001b[0m\u001b[1;33m\u001b[0m\u001b[0m\n",
      "\u001b[1;32m~\\Anaconda3\\lib\\site-packages\\pandas\\core\\reshape\\merge.py\u001b[0m in \u001b[0;36m_factorize_keys\u001b[1;34m(lk, rk, sort)\u001b[0m\n\u001b[0;32m   1404\u001b[0m \u001b[1;33m\u001b[0m\u001b[0m\n\u001b[0;32m   1405\u001b[0m     \u001b[0mllab\u001b[0m \u001b[1;33m=\u001b[0m \u001b[0mrizer\u001b[0m\u001b[1;33m.\u001b[0m\u001b[0mfactorize\u001b[0m\u001b[1;33m(\u001b[0m\u001b[0mlk\u001b[0m\u001b[1;33m)\u001b[0m\u001b[1;33m\u001b[0m\u001b[0m\n\u001b[1;32m-> 1406\u001b[1;33m     \u001b[0mrlab\u001b[0m \u001b[1;33m=\u001b[0m \u001b[0mrizer\u001b[0m\u001b[1;33m.\u001b[0m\u001b[0mfactorize\u001b[0m\u001b[1;33m(\u001b[0m\u001b[0mrk\u001b[0m\u001b[1;33m)\u001b[0m\u001b[1;33m\u001b[0m\u001b[0m\n\u001b[0m\u001b[0;32m   1407\u001b[0m \u001b[1;33m\u001b[0m\u001b[0m\n\u001b[0;32m   1408\u001b[0m     \u001b[0mcount\u001b[0m \u001b[1;33m=\u001b[0m \u001b[0mrizer\u001b[0m\u001b[1;33m.\u001b[0m\u001b[0mget_count\u001b[0m\u001b[1;33m(\u001b[0m\u001b[1;33m)\u001b[0m\u001b[1;33m\u001b[0m\u001b[0m\n",
      "\u001b[1;32mpandas\\_libs\\hashtable.pyx\u001b[0m in \u001b[0;36mpandas._libs.hashtable.Factorizer.factorize\u001b[1;34m()\u001b[0m\n",
      "\u001b[1;31mValueError\u001b[0m: Buffer has wrong number of dimensions (expected 1, got 2)"
     ]
    }
   ],
   "source": [
    "A_anomaly.reset_index(level=0, inplace=True)\n",
    "A_anomaly=A_anomaly.rename(columns={'index':'anon_screen_name'})\n",
    "\n",
    "A_LS_anomaly=pd.merge(lr_traces, A_anomaly, on='anon_screen_name')\n",
    "A_LS_anomaly.set_index(\"anon_screen_name\",inplace=True)\n",
    "\n",
    "A_LS_anomaly.head()"
   ]
  },
  {
   "cell_type": "code",
   "execution_count": 147,
   "metadata": {},
   "outputs": [
    {
     "data": {
      "text/html": [
       "<div>\n",
       "<style>\n",
       "    .dataframe thead tr:only-child th {\n",
       "        text-align: right;\n",
       "    }\n",
       "\n",
       "    .dataframe thead th {\n",
       "        text-align: left;\n",
       "    }\n",
       "\n",
       "    .dataframe tbody tr th {\n",
       "        vertical-align: top;\n",
       "    }\n",
       "</style>\n",
       "<table border=\"1\" class=\"dataframe\">\n",
       "  <thead>\n",
       "    <tr style=\"text-align: right;\">\n",
       "      <th></th>\n",
       "      <th>nbr_events</th>\n",
       "      <th>nbr_week</th>\n",
       "      <th>outliers</th>\n",
       "    </tr>\n",
       "    <tr>\n",
       "      <th>anon_screen_name</th>\n",
       "      <th></th>\n",
       "      <th></th>\n",
       "      <th></th>\n",
       "    </tr>\n",
       "  </thead>\n",
       "  <tbody>\n",
       "    <tr>\n",
       "      <th>30a47f572f1d4e8b5e47b494f4ea522d7aebcbc4</th>\n",
       "      <td>7754</td>\n",
       "      <td>5.0</td>\n",
       "      <td>-1</td>\n",
       "    </tr>\n",
       "    <tr>\n",
       "      <th>42fccbb9d34edd3607fca71edd15ef23c14e87a7</th>\n",
       "      <td>8334</td>\n",
       "      <td>7.0</td>\n",
       "      <td>-1</td>\n",
       "    </tr>\n",
       "    <tr>\n",
       "      <th>d40c62b5d1d4951a5c531048fd248785ed5ba268</th>\n",
       "      <td>12270</td>\n",
       "      <td>4.0</td>\n",
       "      <td>-1</td>\n",
       "    </tr>\n",
       "    <tr>\n",
       "      <th>d6d0454b50adf5d40c30d30eb369e2b675eea67f</th>\n",
       "      <td>53513</td>\n",
       "      <td>1.0</td>\n",
       "      <td>-1</td>\n",
       "    </tr>\n",
       "  </tbody>\n",
       "</table>\n",
       "</div>"
      ],
      "text/plain": [
       "                                          nbr_events  nbr_week  outliers\n",
       "anon_screen_name                                                        \n",
       "30a47f572f1d4e8b5e47b494f4ea522d7aebcbc4        7754       5.0        -1\n",
       "42fccbb9d34edd3607fca71edd15ef23c14e87a7        8334       7.0        -1\n",
       "d40c62b5d1d4951a5c531048fd248785ed5ba268       12270       4.0        -1\n",
       "d6d0454b50adf5d40c30d30eb369e2b675eea67f       53513       1.0        -1"
      ]
     },
     "execution_count": 147,
     "metadata": {},
     "output_type": "execute_result"
    }
   ],
   "source": [
    "A_LS_anomaly[A_LS_anomaly.outliers==-1]"
   ]
  },
  {
   "cell_type": "code",
   "execution_count": 146,
   "metadata": {},
   "outputs": [
    {
     "data": {
      "text/plain": [
       "<matplotlib.legend.Legend at 0x11fa2061e10>"
      ]
     },
     "execution_count": 146,
     "metadata": {},
     "output_type": "execute_result"
    },
    {
     "data": {
      "image/png": "[encoded data removed]",
      "text/plain": [
       "<matplotlib.figure.Figure at 0x11fb1022a20>"
      ]
     },
     "metadata": {},
     "output_type": "display_data"
    }
   ],
   "source": [
    "sns.lmplot( x=\"nbr_week\", y=\"nbr_events\", data=A_LS_anomaly, \n",
    "           fit_reg=False, hue='outliers', legend=False)\n",
    "plt.legend(loc='lower right')\n"
   ]
  },
  {
   "cell_type": "markdown",
   "metadata": {
    "heading_collapsed": true
   },
   "source": [
    "## Local Outliers Factor"
   ]
  },
  {
   "cell_type": "code",
   "execution_count": 133,
   "metadata": {
    "hidden": true
   },
   "outputs": [
    {
     "data": {
      "text/plain": [
       "3219"
      ]
     },
     "execution_count": 133,
     "metadata": {},
     "output_type": "execute_result"
    }
   ],
   "source": [
    "from sklearn.neighbors import LocalOutlierFactor\n",
    "\n",
    "# A_LS.set_index(\"anon_screen_name\",inplace=True)\n",
    "A_LS.fillna(value=0,inplace=True)\n",
    "lof_labels = LocalOutlierFactor(n_neighbors=2, algorithm='kd_tree').fit_predict(A_LS)\n",
    "outliers = lof_labels == -1  # select inliers\n",
    "len(lof_labels[outliers])"
   ]
  },
  {
   "cell_type": "markdown",
   "metadata": {},
   "source": [
    "# Exportation Active Features"
   ]
  },
  {
   "cell_type": "code",
   "execution_count": 162,
   "metadata": {},
   "outputs": [
    {
     "data": {
      "text/html": [
       "<div>\n",
       "<style>\n",
       "    .dataframe thead tr:only-child th {\n",
       "        text-align: right;\n",
       "    }\n",
       "\n",
       "    .dataframe thead th {\n",
       "        text-align: left;\n",
       "    }\n",
       "\n",
       "    .dataframe tbody tr th {\n",
       "        vertical-align: top;\n",
       "    }\n",
       "</style>\n",
       "<table border=\"1\" class=\"dataframe\">\n",
       "  <thead>\n",
       "    <tr style=\"text-align: right;\">\n",
       "      <th></th>\n",
       "      <th>nbr_events</th>\n",
       "      <th>nbr_week</th>\n",
       "      <th>nbr_pause_video</th>\n",
       "      <th>nbr_problem_visit</th>\n",
       "      <th>problem_stay_min</th>\n",
       "      <th>nbr_problem_submit</th>\n",
       "      <th>avg_problem_submit</th>\n",
       "      <th>nbr_forum_post</th>\n",
       "      <th>nbr_sessions</th>\n",
       "    </tr>\n",
       "    <tr>\n",
       "      <th>anon_screen_name</th>\n",
       "      <th></th>\n",
       "      <th></th>\n",
       "      <th></th>\n",
       "      <th></th>\n",
       "      <th></th>\n",
       "      <th></th>\n",
       "      <th></th>\n",
       "      <th></th>\n",
       "      <th></th>\n",
       "    </tr>\n",
       "  </thead>\n",
       "  <tbody>\n",
       "    <tr>\n",
       "      <th>000319dcc413983e25dee182bae7b1d76ebe8d9b</th>\n",
       "      <td>15</td>\n",
       "      <td>1.0</td>\n",
       "      <td>2</td>\n",
       "      <td>0</td>\n",
       "      <td>0.000000</td>\n",
       "      <td>0.0</td>\n",
       "      <td>0.000000</td>\n",
       "      <td>0</td>\n",
       "      <td>1</td>\n",
       "    </tr>\n",
       "    <tr>\n",
       "      <th>0003ece6f51872662ee9b366cd2a72434e01a139</th>\n",
       "      <td>382</td>\n",
       "      <td>1.0</td>\n",
       "      <td>32</td>\n",
       "      <td>6</td>\n",
       "      <td>0.366667</td>\n",
       "      <td>0.0</td>\n",
       "      <td>0.000000</td>\n",
       "      <td>0</td>\n",
       "      <td>93</td>\n",
       "    </tr>\n",
       "    <tr>\n",
       "      <th>00042c13310b03b6fc30c30c34efd2ad127517be</th>\n",
       "      <td>99</td>\n",
       "      <td>1.0</td>\n",
       "      <td>9</td>\n",
       "      <td>5</td>\n",
       "      <td>1.033333</td>\n",
       "      <td>5.0</td>\n",
       "      <td>1.000000</td>\n",
       "      <td>0</td>\n",
       "      <td>1</td>\n",
       "    </tr>\n",
       "    <tr>\n",
       "      <th>00055cea4f5db0c8569127d8ac89a7d130c730cf</th>\n",
       "      <td>2214</td>\n",
       "      <td>5.0</td>\n",
       "      <td>309</td>\n",
       "      <td>23</td>\n",
       "      <td>8.566667</td>\n",
       "      <td>20.0</td>\n",
       "      <td>0.869565</td>\n",
       "      <td>0</td>\n",
       "      <td>13</td>\n",
       "    </tr>\n",
       "    <tr>\n",
       "      <th>0007c3a1163a8b19781443bde21b785900f56814</th>\n",
       "      <td>127</td>\n",
       "      <td>1.0</td>\n",
       "      <td>9</td>\n",
       "      <td>3</td>\n",
       "      <td>2.116667</td>\n",
       "      <td>3.0</td>\n",
       "      <td>1.000000</td>\n",
       "      <td>0</td>\n",
       "      <td>2</td>\n",
       "    </tr>\n",
       "  </tbody>\n",
       "</table>\n",
       "</div>"
      ],
      "text/plain": [
       "                                          nbr_events  nbr_week  \\\n",
       "anon_screen_name                                                 \n",
       "000319dcc413983e25dee182bae7b1d76ebe8d9b          15       1.0   \n",
       "0003ece6f51872662ee9b366cd2a72434e01a139         382       1.0   \n",
       "00042c13310b03b6fc30c30c34efd2ad127517be          99       1.0   \n",
       "00055cea4f5db0c8569127d8ac89a7d130c730cf        2214       5.0   \n",
       "0007c3a1163a8b19781443bde21b785900f56814         127       1.0   \n",
       "\n",
       "                                          nbr_pause_video  nbr_problem_visit  \\\n",
       "anon_screen_name                                                               \n",
       "000319dcc413983e25dee182bae7b1d76ebe8d9b                2                  0   \n",
       "0003ece6f51872662ee9b366cd2a72434e01a139               32                  6   \n",
       "00042c13310b03b6fc30c30c34efd2ad127517be                9                  5   \n",
       "00055cea4f5db0c8569127d8ac89a7d130c730cf              309                 23   \n",
       "0007c3a1163a8b19781443bde21b785900f56814                9                  3   \n",
       "\n",
       "                                          problem_stay_min  \\\n",
       "anon_screen_name                                             \n",
       "000319dcc413983e25dee182bae7b1d76ebe8d9b          0.000000   \n",
       "0003ece6f51872662ee9b366cd2a72434e01a139          0.366667   \n",
       "00042c13310b03b6fc30c30c34efd2ad127517be          1.033333   \n",
       "00055cea4f5db0c8569127d8ac89a7d130c730cf          8.566667   \n",
       "0007c3a1163a8b19781443bde21b785900f56814          2.116667   \n",
       "\n",
       "                                          nbr_problem_submit  \\\n",
       "anon_screen_name                                               \n",
       "000319dcc413983e25dee182bae7b1d76ebe8d9b                 0.0   \n",
       "0003ece6f51872662ee9b366cd2a72434e01a139                 0.0   \n",
       "00042c13310b03b6fc30c30c34efd2ad127517be                 5.0   \n",
       "00055cea4f5db0c8569127d8ac89a7d130c730cf                20.0   \n",
       "0007c3a1163a8b19781443bde21b785900f56814                 3.0   \n",
       "\n",
       "                                          avg_problem_submit  nbr_forum_post  \\\n",
       "anon_screen_name                                                               \n",
       "000319dcc413983e25dee182bae7b1d76ebe8d9b            0.000000               0   \n",
       "0003ece6f51872662ee9b366cd2a72434e01a139            0.000000               0   \n",
       "00042c13310b03b6fc30c30c34efd2ad127517be            1.000000               0   \n",
       "00055cea4f5db0c8569127d8ac89a7d130c730cf            0.869565               0   \n",
       "0007c3a1163a8b19781443bde21b785900f56814            1.000000               0   \n",
       "\n",
       "                                          nbr_sessions  \n",
       "anon_screen_name                                        \n",
       "000319dcc413983e25dee182bae7b1d76ebe8d9b             1  \n",
       "0003ece6f51872662ee9b366cd2a72434e01a139            93  \n",
       "00042c13310b03b6fc30c30c34efd2ad127517be             1  \n",
       "00055cea4f5db0c8569127d8ac89a7d130c730cf            13  \n",
       "0007c3a1163a8b19781443bde21b785900f56814             2  "
      ]
     },
     "execution_count": 162,
     "metadata": {},
     "output_type": "execute_result"
    }
   ],
   "source": [
    "A_LS.head()"
   ]
  },
  {
   "cell_type": "code",
   "execution_count": 164,
   "metadata": {},
   "outputs": [],
   "source": [
    "A_LS_inliers=A_LS[A_LS.index!=\"d6d0454b50adf5d40c30d30eb369e2b675eea67f\"]"
   ]
  },
  {
   "cell_type": "code",
   "execution_count": 165,
   "metadata": {},
   "outputs": [],
   "source": [
    "A_LS_inliers.to_csv(\"active_features_inliers.csv\",columns=['anon_screen_name','nbr_events','nbr_week','nbr_pause_video','nbr_problem_visit','problem_stay_min','nbr_problem_submit',\n",
    "           'avg_problem_submit','nbr_forum_post','nbr_sessions'])"
   ]
  },
  {
   "cell_type": "markdown",
   "metadata": {},
   "source": [
    "# --------------------------------------"
   ]
  },
  {
   "cell_type": "markdown",
   "metadata": {},
   "source": [
    "# Reflective LS"
   ]
  },
  {
   "cell_type": "markdown",
   "metadata": {},
   "source": [
    "## features base"
   ]
  },
  {
   "cell_type": "code",
   "execution_count": 192,
   "metadata": {},
   "outputs": [
    {
     "name": "stderr",
     "output_type": "stream",
     "text": [
      "C:\\Users\\lenovo\\Anaconda3\\lib\\site-packages\\pandas\\core\\groupby.py:4036: FutureWarning: using a dict with renaming is deprecated and will be removed in a future version\n",
      "  return super(DataFrameGroupBy, self).aggregate(arg, *args, **kwargs)\n"
     ]
    },
    {
     "data": {
      "text/html": [
       "<div>\n",
       "<style>\n",
       "    .dataframe thead tr:only-child th {\n",
       "        text-align: right;\n",
       "    }\n",
       "\n",
       "    .dataframe thead th {\n",
       "        text-align: left;\n",
       "    }\n",
       "\n",
       "    .dataframe tbody tr th {\n",
       "        vertical-align: top;\n",
       "    }\n",
       "</style>\n",
       "<table border=\"1\" class=\"dataframe\">\n",
       "  <thead>\n",
       "    <tr style=\"text-align: right;\">\n",
       "      <th></th>\n",
       "      <th>nbr_events</th>\n",
       "      <th>view_post</th>\n",
       "      <th>about</th>\n",
       "      <th>infor</th>\n",
       "      <th>nbr_problem_visit</th>\n",
       "      <th>nbr_week</th>\n",
       "    </tr>\n",
       "    <tr>\n",
       "      <th>anon_screen_name</th>\n",
       "      <th></th>\n",
       "      <th></th>\n",
       "      <th></th>\n",
       "      <th></th>\n",
       "      <th></th>\n",
       "      <th></th>\n",
       "    </tr>\n",
       "  </thead>\n",
       "  <tbody>\n",
       "    <tr>\n",
       "      <th>000319dcc413983e25dee182bae7b1d76ebe8d9b</th>\n",
       "      <td>15</td>\n",
       "      <td>0</td>\n",
       "      <td>2</td>\n",
       "      <td>1</td>\n",
       "      <td>0</td>\n",
       "      <td>1.0</td>\n",
       "    </tr>\n",
       "    <tr>\n",
       "      <th>0003ece6f51872662ee9b366cd2a72434e01a139</th>\n",
       "      <td>382</td>\n",
       "      <td>21</td>\n",
       "      <td>1</td>\n",
       "      <td>1</td>\n",
       "      <td>6</td>\n",
       "      <td>1.0</td>\n",
       "    </tr>\n",
       "    <tr>\n",
       "      <th>00042c13310b03b6fc30c30c34efd2ad127517be</th>\n",
       "      <td>99</td>\n",
       "      <td>0</td>\n",
       "      <td>0</td>\n",
       "      <td>3</td>\n",
       "      <td>5</td>\n",
       "      <td>1.0</td>\n",
       "    </tr>\n",
       "    <tr>\n",
       "      <th>00055cea4f5db0c8569127d8ac89a7d130c730cf</th>\n",
       "      <td>2214</td>\n",
       "      <td>0</td>\n",
       "      <td>4</td>\n",
       "      <td>8</td>\n",
       "      <td>23</td>\n",
       "      <td>5.0</td>\n",
       "    </tr>\n",
       "    <tr>\n",
       "      <th>0007c3a1163a8b19781443bde21b785900f56814</th>\n",
       "      <td>127</td>\n",
       "      <td>0</td>\n",
       "      <td>2</td>\n",
       "      <td>3</td>\n",
       "      <td>3</td>\n",
       "      <td>1.0</td>\n",
       "    </tr>\n",
       "  </tbody>\n",
       "</table>\n",
       "</div>"
      ],
      "text/plain": [
       "                                          nbr_events  view_post  about  infor  \\\n",
       "anon_screen_name                                                                \n",
       "000319dcc413983e25dee182bae7b1d76ebe8d9b          15          0      2      1   \n",
       "0003ece6f51872662ee9b366cd2a72434e01a139         382         21      1      1   \n",
       "00042c13310b03b6fc30c30c34efd2ad127517be          99          0      0      3   \n",
       "00055cea4f5db0c8569127d8ac89a7d130c730cf        2214          0      4      8   \n",
       "0007c3a1163a8b19781443bde21b785900f56814         127          0      2      3   \n",
       "\n",
       "                                          nbr_problem_visit  nbr_week  \n",
       "anon_screen_name                                                       \n",
       "000319dcc413983e25dee182bae7b1d76ebe8d9b                  0       1.0  \n",
       "0003ece6f51872662ee9b366cd2a72434e01a139                  6       1.0  \n",
       "00042c13310b03b6fc30c30c34efd2ad127517be                  5       1.0  \n",
       "00055cea4f5db0c8569127d8ac89a7d130c730cf                 23       5.0  \n",
       "0007c3a1163a8b19781443bde21b785900f56814                  3       1.0  "
      ]
     },
     "execution_count": 192,
     "metadata": {},
     "output_type": "execute_result"
    }
   ],
   "source": [
    "learners=mooc.groupby(\"anon_screen_name\")\n",
    "R_agg_student=learners.agg({\n",
    "'event_type':{\n",
    "        'nbr_events':lambda x:x.count(),           \n",
    "        'view_post':lambda x: (x == 'view_post').sum(),\n",
    "        'about':lambda x: (x == 'about').sum(),          \n",
    "        'infor':lambda x: (x == 'info').sum()\n",
    "},\n",
    "'resource_display_name':{\n",
    "    'nbr_problem_visit':lambda x: x[x.isin(problem_name)].nunique()\n",
    "},'week':{\n",
    "    'nbr_week':lambda x:x.nunique()\n",
    "} \n",
    "})    \n",
    "R_agg_student.columns = R_agg_student.columns.droplevel()\n",
    "R_agg_student.head()"
   ]
  },
  {
   "cell_type": "markdown",
   "metadata": {},
   "source": [
    "## showanswer  stay"
   ]
  },
  {
   "cell_type": "code",
   "execution_count": 193,
   "metadata": {},
   "outputs": [
    {
     "name": "stderr",
     "output_type": "stream",
     "text": [
      "C:\\Users\\lenovo\\Anaconda3\\lib\\site-packages\\pandas\\core\\groupby.py:4036: FutureWarning: using a dict with renaming is deprecated and will be removed in a future version\n",
      "  return super(DataFrameGroupBy, self).aggregate(arg, *args, **kwargs)\n"
     ]
    },
    {
     "data": {
      "text/html": [
       "<div>\n",
       "<style>\n",
       "    .dataframe thead tr:only-child th {\n",
       "        text-align: right;\n",
       "    }\n",
       "\n",
       "    .dataframe thead th {\n",
       "        text-align: left;\n",
       "    }\n",
       "\n",
       "    .dataframe tbody tr th {\n",
       "        vertical-align: top;\n",
       "    }\n",
       "</style>\n",
       "<table border=\"1\" class=\"dataframe\">\n",
       "  <thead>\n",
       "    <tr style=\"text-align: right;\">\n",
       "      <th></th>\n",
       "      <th>showanswer_stay</th>\n",
       "      <th>nbr_showanswer</th>\n",
       "    </tr>\n",
       "    <tr>\n",
       "      <th>anon_screen_name</th>\n",
       "      <th></th>\n",
       "      <th></th>\n",
       "    </tr>\n",
       "  </thead>\n",
       "  <tbody>\n",
       "    <tr>\n",
       "      <th>00042c13310b03b6fc30c30c34efd2ad127517be</th>\n",
       "      <td>187.0</td>\n",
       "      <td>2</td>\n",
       "    </tr>\n",
       "    <tr>\n",
       "      <th>00055cea4f5db0c8569127d8ac89a7d130c730cf</th>\n",
       "      <td>456.0</td>\n",
       "      <td>22</td>\n",
       "    </tr>\n",
       "    <tr>\n",
       "      <th>0007c3a1163a8b19781443bde21b785900f56814</th>\n",
       "      <td>7.0</td>\n",
       "      <td>1</td>\n",
       "    </tr>\n",
       "    <tr>\n",
       "      <th>00142b5b7e9b7c3475c56f8949e7242dd0737fd1</th>\n",
       "      <td>80.0</td>\n",
       "      <td>12</td>\n",
       "    </tr>\n",
       "    <tr>\n",
       "      <th>001696bee8d6ca595cae2b43941f267d3192fb1f</th>\n",
       "      <td>3197.0</td>\n",
       "      <td>78</td>\n",
       "    </tr>\n",
       "  </tbody>\n",
       "</table>\n",
       "</div>"
      ],
      "text/plain": [
       "                                          showanswer_stay  nbr_showanswer\n",
       "anon_screen_name                                                         \n",
       "00042c13310b03b6fc30c30c34efd2ad127517be            187.0               2\n",
       "00055cea4f5db0c8569127d8ac89a7d130c730cf            456.0              22\n",
       "0007c3a1163a8b19781443bde21b785900f56814              7.0               1\n",
       "00142b5b7e9b7c3475c56f8949e7242dd0737fd1             80.0              12\n",
       "001696bee8d6ca595cae2b43941f267d3192fb1f           3197.0              78"
      ]
     },
     "execution_count": 193,
     "metadata": {},
     "output_type": "execute_result"
    }
   ],
   "source": [
    "mooc_showanswer= mooc[mooc.event_type=='showanswer']\n",
    "learners_showanswer=mooc_showanswer.groupby(\"anon_screen_name\")\n",
    "\n",
    "showanswer_stay=learners_showanswer.agg({'event_duration':{\n",
    "        'showanswer_stay':lambda x: x.sum()     \n",
    "},\n",
    "'event_type':{\n",
    "        'nbr_showanswer':lambda x:x.count()\n",
    "}                                      \n",
    " })\n",
    "\n",
    "# showanswer stay\n",
    "showanswer_stay.columns = showanswer_stay.columns.droplevel()\n",
    "showanswer_stay.head()"
   ]
  },
  {
   "cell_type": "markdown",
   "metadata": {},
   "source": [
    "## Problem show stay"
   ]
  },
  {
   "cell_type": "code",
   "execution_count": 194,
   "metadata": {},
   "outputs": [
    {
     "name": "stderr",
     "output_type": "stream",
     "text": [
      "C:\\Users\\lenovo\\Anaconda3\\lib\\site-packages\\pandas\\core\\groupby.py:4036: FutureWarning: using a dict with renaming is deprecated and will be removed in a future version\n",
      "  return super(DataFrameGroupBy, self).aggregate(arg, *args, **kwargs)\n"
     ]
    },
    {
     "data": {
      "text/html": [
       "<div>\n",
       "<style>\n",
       "    .dataframe thead tr:only-child th {\n",
       "        text-align: right;\n",
       "    }\n",
       "\n",
       "    .dataframe thead th {\n",
       "        text-align: left;\n",
       "    }\n",
       "\n",
       "    .dataframe tbody tr th {\n",
       "        vertical-align: top;\n",
       "    }\n",
       "</style>\n",
       "<table border=\"1\" class=\"dataframe\">\n",
       "  <thead>\n",
       "    <tr style=\"text-align: right;\">\n",
       "      <th></th>\n",
       "      <th>problem_show_stay</th>\n",
       "      <th>nbr_problem_show</th>\n",
       "    </tr>\n",
       "    <tr>\n",
       "      <th>anon_screen_name</th>\n",
       "      <th></th>\n",
       "      <th></th>\n",
       "    </tr>\n",
       "  </thead>\n",
       "  <tbody>\n",
       "    <tr>\n",
       "      <th>00042c13310b03b6fc30c30c34efd2ad127517be</th>\n",
       "      <td>63.0</td>\n",
       "      <td>2</td>\n",
       "    </tr>\n",
       "    <tr>\n",
       "      <th>00055cea4f5db0c8569127d8ac89a7d130c730cf</th>\n",
       "      <td>493.0</td>\n",
       "      <td>20</td>\n",
       "    </tr>\n",
       "    <tr>\n",
       "      <th>0007c3a1163a8b19781443bde21b785900f56814</th>\n",
       "      <td>0.0</td>\n",
       "      <td>1</td>\n",
       "    </tr>\n",
       "    <tr>\n",
       "      <th>00142b5b7e9b7c3475c56f8949e7242dd0737fd1</th>\n",
       "      <td>89.0</td>\n",
       "      <td>11</td>\n",
       "    </tr>\n",
       "    <tr>\n",
       "      <th>001696bee8d6ca595cae2b43941f267d3192fb1f</th>\n",
       "      <td>3777.0</td>\n",
       "      <td>74</td>\n",
       "    </tr>\n",
       "  </tbody>\n",
       "</table>\n",
       "</div>"
      ],
      "text/plain": [
       "                                          problem_show_stay  nbr_problem_show\n",
       "anon_screen_name                                                             \n",
       "00042c13310b03b6fc30c30c34efd2ad127517be               63.0                 2\n",
       "00055cea4f5db0c8569127d8ac89a7d130c730cf              493.0                20\n",
       "0007c3a1163a8b19781443bde21b785900f56814                0.0                 1\n",
       "00142b5b7e9b7c3475c56f8949e7242dd0737fd1               89.0                11\n",
       "001696bee8d6ca595cae2b43941f267d3192fb1f             3777.0                74"
      ]
     },
     "execution_count": 194,
     "metadata": {},
     "output_type": "execute_result"
    }
   ],
   "source": [
    "mooc_problem_show= mooc[mooc.event_type=='problem_show']\n",
    "learners_problem_show=mooc_problem_show.groupby(\"anon_screen_name\")\n",
    "\n",
    "problem_show_stay=learners_problem_show.agg({'event_duration':{\n",
    "        'problem_show_stay':lambda x: x.sum()     \n",
    "},'resource_display_name':{\n",
    "        'nbr_problem_show':lambda x: x.nunique()     \n",
    "}\n",
    "                                            \n",
    "                                            })\n",
    "\n",
    "# problem_show stay\n",
    "problem_show_stay.columns = problem_show_stay.columns.droplevel()\n",
    "problem_show_stay.head()"
   ]
  },
  {
   "cell_type": "markdown",
   "metadata": {},
   "source": [
    "## Aggregation"
   ]
  },
  {
   "cell_type": "code",
   "execution_count": 195,
   "metadata": {},
   "outputs": [
    {
     "data": {
      "text/plain": [
       "(32185, 6)"
      ]
     },
     "execution_count": 195,
     "metadata": {},
     "output_type": "execute_result"
    }
   ],
   "source": [
    "R_agg_student.shape"
   ]
  },
  {
   "cell_type": "code",
   "execution_count": 196,
   "metadata": {},
   "outputs": [
    {
     "data": {
      "text/plain": [
       "(11346, 2)"
      ]
     },
     "execution_count": 196,
     "metadata": {},
     "output_type": "execute_result"
    }
   ],
   "source": [
    "problem_show_stay.shape"
   ]
  },
  {
   "cell_type": "code",
   "execution_count": 197,
   "metadata": {
    "collapsed": true
   },
   "outputs": [],
   "source": [
    "#R_showanswer_stay\n",
    "R_agg_student.reset_index(level=0, inplace=True)\n",
    "problem_show_stay.reset_index(level=0, inplace=True)\n",
    "\n",
    "Ref_LS=pd.merge(R_agg_student, problem_show_stay,how='left', on='anon_screen_name')"
   ]
  },
  {
   "cell_type": "code",
   "execution_count": 198,
   "metadata": {},
   "outputs": [
    {
     "data": {
      "text/html": [
       "<div>\n",
       "<style>\n",
       "    .dataframe thead tr:only-child th {\n",
       "        text-align: right;\n",
       "    }\n",
       "\n",
       "    .dataframe thead th {\n",
       "        text-align: left;\n",
       "    }\n",
       "\n",
       "    .dataframe tbody tr th {\n",
       "        vertical-align: top;\n",
       "    }\n",
       "</style>\n",
       "<table border=\"1\" class=\"dataframe\">\n",
       "  <thead>\n",
       "    <tr style=\"text-align: right;\">\n",
       "      <th></th>\n",
       "      <th>anon_screen_name</th>\n",
       "      <th>nbr_events</th>\n",
       "      <th>view_post</th>\n",
       "      <th>about</th>\n",
       "      <th>infor</th>\n",
       "      <th>nbr_problem_visit</th>\n",
       "      <th>nbr_week</th>\n",
       "      <th>problem_show_stay</th>\n",
       "      <th>nbr_problem_show</th>\n",
       "    </tr>\n",
       "  </thead>\n",
       "  <tbody>\n",
       "    <tr>\n",
       "      <th>0</th>\n",
       "      <td>000319dcc413983e25dee182bae7b1d76ebe8d9b</td>\n",
       "      <td>15</td>\n",
       "      <td>0</td>\n",
       "      <td>2</td>\n",
       "      <td>1</td>\n",
       "      <td>0</td>\n",
       "      <td>1.0</td>\n",
       "      <td>NaN</td>\n",
       "      <td>NaN</td>\n",
       "    </tr>\n",
       "    <tr>\n",
       "      <th>1</th>\n",
       "      <td>0003ece6f51872662ee9b366cd2a72434e01a139</td>\n",
       "      <td>382</td>\n",
       "      <td>21</td>\n",
       "      <td>1</td>\n",
       "      <td>1</td>\n",
       "      <td>6</td>\n",
       "      <td>1.0</td>\n",
       "      <td>NaN</td>\n",
       "      <td>NaN</td>\n",
       "    </tr>\n",
       "    <tr>\n",
       "      <th>2</th>\n",
       "      <td>00042c13310b03b6fc30c30c34efd2ad127517be</td>\n",
       "      <td>99</td>\n",
       "      <td>0</td>\n",
       "      <td>0</td>\n",
       "      <td>3</td>\n",
       "      <td>5</td>\n",
       "      <td>1.0</td>\n",
       "      <td>63.0</td>\n",
       "      <td>2.0</td>\n",
       "    </tr>\n",
       "    <tr>\n",
       "      <th>3</th>\n",
       "      <td>00055cea4f5db0c8569127d8ac89a7d130c730cf</td>\n",
       "      <td>2214</td>\n",
       "      <td>0</td>\n",
       "      <td>4</td>\n",
       "      <td>8</td>\n",
       "      <td>23</td>\n",
       "      <td>5.0</td>\n",
       "      <td>493.0</td>\n",
       "      <td>20.0</td>\n",
       "    </tr>\n",
       "    <tr>\n",
       "      <th>4</th>\n",
       "      <td>0007c3a1163a8b19781443bde21b785900f56814</td>\n",
       "      <td>127</td>\n",
       "      <td>0</td>\n",
       "      <td>2</td>\n",
       "      <td>3</td>\n",
       "      <td>3</td>\n",
       "      <td>1.0</td>\n",
       "      <td>0.0</td>\n",
       "      <td>1.0</td>\n",
       "    </tr>\n",
       "  </tbody>\n",
       "</table>\n",
       "</div>"
      ],
      "text/plain": [
       "                           anon_screen_name  nbr_events  view_post  about  \\\n",
       "0  000319dcc413983e25dee182bae7b1d76ebe8d9b          15          0      2   \n",
       "1  0003ece6f51872662ee9b366cd2a72434e01a139         382         21      1   \n",
       "2  00042c13310b03b6fc30c30c34efd2ad127517be          99          0      0   \n",
       "3  00055cea4f5db0c8569127d8ac89a7d130c730cf        2214          0      4   \n",
       "4  0007c3a1163a8b19781443bde21b785900f56814         127          0      2   \n",
       "\n",
       "   infor  nbr_problem_visit  nbr_week  problem_show_stay  nbr_problem_show  \n",
       "0      1                  0       1.0                NaN               NaN  \n",
       "1      1                  6       1.0                NaN               NaN  \n",
       "2      3                  5       1.0               63.0               2.0  \n",
       "3      8                 23       5.0              493.0              20.0  \n",
       "4      3                  3       1.0                0.0               1.0  "
      ]
     },
     "execution_count": 198,
     "metadata": {},
     "output_type": "execute_result"
    }
   ],
   "source": [
    "Ref_LS.head()"
   ]
  },
  {
   "cell_type": "code",
   "execution_count": 199,
   "metadata": {},
   "outputs": [],
   "source": [
    "Ref_LS.fillna(value=0,inplace=True)\n",
    "Ref_LS['avg_problem_show']=Ref_LS.nbr_problem_show/Ref_LS.nbr_problem_visit\n",
    "Ref_LS['outline']=Ref_LS.infor+Ref_LS.about\n",
    "# Ref_LS.set_index('anon_screen_name',inplace=True)"
   ]
  },
  {
   "cell_type": "code",
   "execution_count": 200,
   "metadata": {
    "collapsed": true
   },
   "outputs": [],
   "source": [
    "Ref_LS.drop('about', axis=1, inplace=True)\n",
    "Ref_LS.drop('infor', axis=1, inplace=True)\n",
    "Ref_LS.drop('nbr_problem_visit', axis=1, inplace=True)"
   ]
  },
  {
   "cell_type": "code",
   "execution_count": 201,
   "metadata": {
    "collapsed": true
   },
   "outputs": [],
   "source": [
    "Ref_LS.fillna(value=0,inplace=True)"
   ]
  },
  {
   "cell_type": "code",
   "execution_count": 202,
   "metadata": {},
   "outputs": [
    {
     "data": {
      "text/html": [
       "<div>\n",
       "<style>\n",
       "    .dataframe thead tr:only-child th {\n",
       "        text-align: right;\n",
       "    }\n",
       "\n",
       "    .dataframe thead th {\n",
       "        text-align: left;\n",
       "    }\n",
       "\n",
       "    .dataframe tbody tr th {\n",
       "        vertical-align: top;\n",
       "    }\n",
       "</style>\n",
       "<table border=\"1\" class=\"dataframe\">\n",
       "  <thead>\n",
       "    <tr style=\"text-align: right;\">\n",
       "      <th></th>\n",
       "      <th>nbr_events</th>\n",
       "      <th>view_post</th>\n",
       "      <th>nbr_week</th>\n",
       "      <th>problem_show_stay</th>\n",
       "      <th>nbr_problem_show</th>\n",
       "      <th>avg_problem_show</th>\n",
       "      <th>outline</th>\n",
       "    </tr>\n",
       "    <tr>\n",
       "      <th>anon_screen_name</th>\n",
       "      <th></th>\n",
       "      <th></th>\n",
       "      <th></th>\n",
       "      <th></th>\n",
       "      <th></th>\n",
       "      <th></th>\n",
       "      <th></th>\n",
       "    </tr>\n",
       "  </thead>\n",
       "  <tbody>\n",
       "    <tr>\n",
       "      <th>000319dcc413983e25dee182bae7b1d76ebe8d9b</th>\n",
       "      <td>15</td>\n",
       "      <td>0</td>\n",
       "      <td>1.0</td>\n",
       "      <td>0.0</td>\n",
       "      <td>0.0</td>\n",
       "      <td>0.000000</td>\n",
       "      <td>3</td>\n",
       "    </tr>\n",
       "    <tr>\n",
       "      <th>0003ece6f51872662ee9b366cd2a72434e01a139</th>\n",
       "      <td>382</td>\n",
       "      <td>21</td>\n",
       "      <td>1.0</td>\n",
       "      <td>0.0</td>\n",
       "      <td>0.0</td>\n",
       "      <td>0.000000</td>\n",
       "      <td>2</td>\n",
       "    </tr>\n",
       "    <tr>\n",
       "      <th>00042c13310b03b6fc30c30c34efd2ad127517be</th>\n",
       "      <td>99</td>\n",
       "      <td>0</td>\n",
       "      <td>1.0</td>\n",
       "      <td>63.0</td>\n",
       "      <td>2.0</td>\n",
       "      <td>0.400000</td>\n",
       "      <td>3</td>\n",
       "    </tr>\n",
       "    <tr>\n",
       "      <th>00055cea4f5db0c8569127d8ac89a7d130c730cf</th>\n",
       "      <td>2214</td>\n",
       "      <td>0</td>\n",
       "      <td>5.0</td>\n",
       "      <td>493.0</td>\n",
       "      <td>20.0</td>\n",
       "      <td>0.869565</td>\n",
       "      <td>12</td>\n",
       "    </tr>\n",
       "    <tr>\n",
       "      <th>0007c3a1163a8b19781443bde21b785900f56814</th>\n",
       "      <td>127</td>\n",
       "      <td>0</td>\n",
       "      <td>1.0</td>\n",
       "      <td>0.0</td>\n",
       "      <td>1.0</td>\n",
       "      <td>0.333333</td>\n",
       "      <td>5</td>\n",
       "    </tr>\n",
       "  </tbody>\n",
       "</table>\n",
       "</div>"
      ],
      "text/plain": [
       "                                          nbr_events  view_post  nbr_week  \\\n",
       "anon_screen_name                                                            \n",
       "000319dcc413983e25dee182bae7b1d76ebe8d9b          15          0       1.0   \n",
       "0003ece6f51872662ee9b366cd2a72434e01a139         382         21       1.0   \n",
       "00042c13310b03b6fc30c30c34efd2ad127517be          99          0       1.0   \n",
       "00055cea4f5db0c8569127d8ac89a7d130c730cf        2214          0       5.0   \n",
       "0007c3a1163a8b19781443bde21b785900f56814         127          0       1.0   \n",
       "\n",
       "                                          problem_show_stay  nbr_problem_show  \\\n",
       "anon_screen_name                                                                \n",
       "000319dcc413983e25dee182bae7b1d76ebe8d9b                0.0               0.0   \n",
       "0003ece6f51872662ee9b366cd2a72434e01a139                0.0               0.0   \n",
       "00042c13310b03b6fc30c30c34efd2ad127517be               63.0               2.0   \n",
       "00055cea4f5db0c8569127d8ac89a7d130c730cf              493.0              20.0   \n",
       "0007c3a1163a8b19781443bde21b785900f56814                0.0               1.0   \n",
       "\n",
       "                                          avg_problem_show  outline  \n",
       "anon_screen_name                                                     \n",
       "000319dcc413983e25dee182bae7b1d76ebe8d9b          0.000000        3  \n",
       "0003ece6f51872662ee9b366cd2a72434e01a139          0.000000        2  \n",
       "00042c13310b03b6fc30c30c34efd2ad127517be          0.400000        3  \n",
       "00055cea4f5db0c8569127d8ac89a7d130c730cf          0.869565       12  \n",
       "0007c3a1163a8b19781443bde21b785900f56814          0.333333        5  "
      ]
     },
     "execution_count": 202,
     "metadata": {},
     "output_type": "execute_result"
    }
   ],
   "source": [
    "Ref_LS.set_index(\"anon_screen_name\",inplace=True)\n",
    "Ref_LS.head()"
   ]
  },
  {
   "cell_type": "code",
   "execution_count": 203,
   "metadata": {},
   "outputs": [
    {
     "data": {
      "text/html": [
       "<div>\n",
       "<style>\n",
       "    .dataframe thead tr:only-child th {\n",
       "        text-align: right;\n",
       "    }\n",
       "\n",
       "    .dataframe thead th {\n",
       "        text-align: left;\n",
       "    }\n",
       "\n",
       "    .dataframe tbody tr th {\n",
       "        vertical-align: top;\n",
       "    }\n",
       "</style>\n",
       "<table border=\"1\" class=\"dataframe\">\n",
       "  <thead>\n",
       "    <tr style=\"text-align: right;\">\n",
       "      <th></th>\n",
       "      <th>nbr_events</th>\n",
       "      <th>nbr_week</th>\n",
       "      <th>nbr_problem_show</th>\n",
       "      <th>problem_show_stay</th>\n",
       "      <th>avg_problem_show</th>\n",
       "      <th>outline</th>\n",
       "      <th>view_post</th>\n",
       "    </tr>\n",
       "    <tr>\n",
       "      <th>anon_screen_name</th>\n",
       "      <th></th>\n",
       "      <th></th>\n",
       "      <th></th>\n",
       "      <th></th>\n",
       "      <th></th>\n",
       "      <th></th>\n",
       "      <th></th>\n",
       "    </tr>\n",
       "  </thead>\n",
       "  <tbody>\n",
       "    <tr>\n",
       "      <th>000319dcc413983e25dee182bae7b1d76ebe8d9b</th>\n",
       "      <td>15</td>\n",
       "      <td>1.0</td>\n",
       "      <td>0.0</td>\n",
       "      <td>0.0</td>\n",
       "      <td>0.000000</td>\n",
       "      <td>3</td>\n",
       "      <td>0</td>\n",
       "    </tr>\n",
       "    <tr>\n",
       "      <th>0003ece6f51872662ee9b366cd2a72434e01a139</th>\n",
       "      <td>382</td>\n",
       "      <td>1.0</td>\n",
       "      <td>0.0</td>\n",
       "      <td>0.0</td>\n",
       "      <td>0.000000</td>\n",
       "      <td>2</td>\n",
       "      <td>21</td>\n",
       "    </tr>\n",
       "    <tr>\n",
       "      <th>00042c13310b03b6fc30c30c34efd2ad127517be</th>\n",
       "      <td>99</td>\n",
       "      <td>1.0</td>\n",
       "      <td>2.0</td>\n",
       "      <td>63.0</td>\n",
       "      <td>0.400000</td>\n",
       "      <td>3</td>\n",
       "      <td>0</td>\n",
       "    </tr>\n",
       "    <tr>\n",
       "      <th>00055cea4f5db0c8569127d8ac89a7d130c730cf</th>\n",
       "      <td>2214</td>\n",
       "      <td>5.0</td>\n",
       "      <td>20.0</td>\n",
       "      <td>493.0</td>\n",
       "      <td>0.869565</td>\n",
       "      <td>12</td>\n",
       "      <td>0</td>\n",
       "    </tr>\n",
       "    <tr>\n",
       "      <th>0007c3a1163a8b19781443bde21b785900f56814</th>\n",
       "      <td>127</td>\n",
       "      <td>1.0</td>\n",
       "      <td>1.0</td>\n",
       "      <td>0.0</td>\n",
       "      <td>0.333333</td>\n",
       "      <td>5</td>\n",
       "      <td>0</td>\n",
       "    </tr>\n",
       "  </tbody>\n",
       "</table>\n",
       "</div>"
      ],
      "text/plain": [
       "                                          nbr_events  nbr_week  \\\n",
       "anon_screen_name                                                 \n",
       "000319dcc413983e25dee182bae7b1d76ebe8d9b          15       1.0   \n",
       "0003ece6f51872662ee9b366cd2a72434e01a139         382       1.0   \n",
       "00042c13310b03b6fc30c30c34efd2ad127517be          99       1.0   \n",
       "00055cea4f5db0c8569127d8ac89a7d130c730cf        2214       5.0   \n",
       "0007c3a1163a8b19781443bde21b785900f56814         127       1.0   \n",
       "\n",
       "                                          nbr_problem_show  problem_show_stay  \\\n",
       "anon_screen_name                                                                \n",
       "000319dcc413983e25dee182bae7b1d76ebe8d9b               0.0                0.0   \n",
       "0003ece6f51872662ee9b366cd2a72434e01a139               0.0                0.0   \n",
       "00042c13310b03b6fc30c30c34efd2ad127517be               2.0               63.0   \n",
       "00055cea4f5db0c8569127d8ac89a7d130c730cf              20.0              493.0   \n",
       "0007c3a1163a8b19781443bde21b785900f56814               1.0                0.0   \n",
       "\n",
       "                                          avg_problem_show  outline  view_post  \n",
       "anon_screen_name                                                                \n",
       "000319dcc413983e25dee182bae7b1d76ebe8d9b          0.000000        3          0  \n",
       "0003ece6f51872662ee9b366cd2a72434e01a139          0.000000        2         21  \n",
       "00042c13310b03b6fc30c30c34efd2ad127517be          0.400000        3          0  \n",
       "00055cea4f5db0c8569127d8ac89a7d130c730cf          0.869565       12          0  \n",
       "0007c3a1163a8b19781443bde21b785900f56814          0.333333        5          0  "
      ]
     },
     "execution_count": 203,
     "metadata": {},
     "output_type": "execute_result"
    }
   ],
   "source": [
    "Ref_LS=Ref_LS[['nbr_events','nbr_week','nbr_problem_show','problem_show_stay','avg_problem_show','outline','view_post']]\n",
    "Ref_LS.head()"
   ]
  },
  {
   "cell_type": "code",
   "execution_count": 204,
   "metadata": {},
   "outputs": [
    {
     "data": {
      "text/plain": [
       "(32185, 7)"
      ]
     },
     "execution_count": 204,
     "metadata": {},
     "output_type": "execute_result"
    }
   ],
   "source": [
    "Ref_LS.shape"
   ]
  },
  {
   "cell_type": "markdown",
   "metadata": {},
   "source": [
    "# Outlier Detection\n",
    "Detecting outliers in the data is extremely important in the data preprocessing step of any analysis. The presence of outliers can often skew results which take into consideration these data points. There are many \"rules of thumb\" for what constitutes an outlier in a dataset."
   ]
  },
  {
   "cell_type": "markdown",
   "metadata": {},
   "source": [
    "## Isolation Forest"
   ]
  },
  {
   "cell_type": "code",
   "execution_count": 205,
   "metadata": {},
   "outputs": [
    {
     "data": {
      "text/html": [
       "<div>\n",
       "<style>\n",
       "    .dataframe thead tr:only-child th {\n",
       "        text-align: right;\n",
       "    }\n",
       "\n",
       "    .dataframe thead th {\n",
       "        text-align: left;\n",
       "    }\n",
       "\n",
       "    .dataframe tbody tr th {\n",
       "        vertical-align: top;\n",
       "    }\n",
       "</style>\n",
       "<table border=\"1\" class=\"dataframe\">\n",
       "  <thead>\n",
       "    <tr style=\"text-align: right;\">\n",
       "      <th></th>\n",
       "      <th>nbr_problem_show</th>\n",
       "      <th>problem_show_stay</th>\n",
       "      <th>avg_problem_show</th>\n",
       "      <th>outline</th>\n",
       "      <th>view_post</th>\n",
       "    </tr>\n",
       "    <tr>\n",
       "      <th>anon_screen_name</th>\n",
       "      <th></th>\n",
       "      <th></th>\n",
       "      <th></th>\n",
       "      <th></th>\n",
       "      <th></th>\n",
       "    </tr>\n",
       "  </thead>\n",
       "  <tbody>\n",
       "    <tr>\n",
       "      <th>000319dcc413983e25dee182bae7b1d76ebe8d9b</th>\n",
       "      <td>0.0</td>\n",
       "      <td>0.0</td>\n",
       "      <td>0.000000</td>\n",
       "      <td>3</td>\n",
       "      <td>0</td>\n",
       "    </tr>\n",
       "    <tr>\n",
       "      <th>0003ece6f51872662ee9b366cd2a72434e01a139</th>\n",
       "      <td>0.0</td>\n",
       "      <td>0.0</td>\n",
       "      <td>0.000000</td>\n",
       "      <td>2</td>\n",
       "      <td>21</td>\n",
       "    </tr>\n",
       "    <tr>\n",
       "      <th>00042c13310b03b6fc30c30c34efd2ad127517be</th>\n",
       "      <td>2.0</td>\n",
       "      <td>63.0</td>\n",
       "      <td>0.400000</td>\n",
       "      <td>3</td>\n",
       "      <td>0</td>\n",
       "    </tr>\n",
       "    <tr>\n",
       "      <th>00055cea4f5db0c8569127d8ac89a7d130c730cf</th>\n",
       "      <td>20.0</td>\n",
       "      <td>493.0</td>\n",
       "      <td>0.869565</td>\n",
       "      <td>12</td>\n",
       "      <td>0</td>\n",
       "    </tr>\n",
       "    <tr>\n",
       "      <th>0007c3a1163a8b19781443bde21b785900f56814</th>\n",
       "      <td>1.0</td>\n",
       "      <td>0.0</td>\n",
       "      <td>0.333333</td>\n",
       "      <td>5</td>\n",
       "      <td>0</td>\n",
       "    </tr>\n",
       "  </tbody>\n",
       "</table>\n",
       "</div>"
      ],
      "text/plain": [
       "                                          nbr_problem_show  problem_show_stay  \\\n",
       "anon_screen_name                                                                \n",
       "000319dcc413983e25dee182bae7b1d76ebe8d9b               0.0                0.0   \n",
       "0003ece6f51872662ee9b366cd2a72434e01a139               0.0                0.0   \n",
       "00042c13310b03b6fc30c30c34efd2ad127517be               2.0               63.0   \n",
       "00055cea4f5db0c8569127d8ac89a7d130c730cf              20.0              493.0   \n",
       "0007c3a1163a8b19781443bde21b785900f56814               1.0                0.0   \n",
       "\n",
       "                                          avg_problem_show  outline  view_post  \n",
       "anon_screen_name                                                                \n",
       "000319dcc413983e25dee182bae7b1d76ebe8d9b          0.000000        3          0  \n",
       "0003ece6f51872662ee9b366cd2a72434e01a139          0.000000        2         21  \n",
       "00042c13310b03b6fc30c30c34efd2ad127517be          0.400000        3          0  \n",
       "00055cea4f5db0c8569127d8ac89a7d130c730cf          0.869565       12          0  \n",
       "0007c3a1163a8b19781443bde21b785900f56814          0.333333        5          0  "
      ]
     },
     "execution_count": 205,
     "metadata": {},
     "output_type": "execute_result"
    }
   ],
   "source": [
    "lr_ref_traces=Ref_LS[['nbr_problem_show','problem_show_stay','avg_problem_show','outline','view_post']]\n",
    "lr_ref_traces.head()"
   ]
  },
  {
   "cell_type": "code",
   "execution_count": 207,
   "metadata": {},
   "outputs": [
    {
     "name": "stdout",
     "output_type": "stream",
     "text": [
      "32180\n",
      "5\n"
     ]
    }
   ],
   "source": [
    "from sklearn import ensemble\n",
    "# A_LS.set_index(\"anon_screen_name\",inplace=True)\n",
    "\n",
    "reflective_anomaly_detector=ensemble.IsolationForest(contamination=0.0001)              \n",
    "reflective_anomaly_detector.fit(lr_ref_traces)\n",
    "reflective_anomaly_prediction=reflective_anomaly_detector.predict(lr_ref_traces)\n",
    "\n",
    "inliers = reflective_anomaly_prediction == 1  # select inliers\n",
    "print(len(reflective_anomaly_prediction[inliers]))\n",
    "\n",
    "outliers = reflective_anomaly_prediction == -1  # select outliers\n",
    "print(len(reflective_anomaly_prediction[outliers]))"
   ]
  },
  {
   "cell_type": "code",
   "execution_count": 209,
   "metadata": {},
   "outputs": [
    {
     "data": {
      "text/html": [
       "<div>\n",
       "<style>\n",
       "    .dataframe thead tr:only-child th {\n",
       "        text-align: right;\n",
       "    }\n",
       "\n",
       "    .dataframe thead th {\n",
       "        text-align: left;\n",
       "    }\n",
       "\n",
       "    .dataframe tbody tr th {\n",
       "        vertical-align: top;\n",
       "    }\n",
       "</style>\n",
       "<table border=\"1\" class=\"dataframe\">\n",
       "  <thead>\n",
       "    <tr style=\"text-align: right;\">\n",
       "      <th></th>\n",
       "      <th>outliers</th>\n",
       "    </tr>\n",
       "  </thead>\n",
       "  <tbody>\n",
       "    <tr>\n",
       "      <th>000319dcc413983e25dee182bae7b1d76ebe8d9b</th>\n",
       "      <td>1</td>\n",
       "    </tr>\n",
       "    <tr>\n",
       "      <th>0003ece6f51872662ee9b366cd2a72434e01a139</th>\n",
       "      <td>1</td>\n",
       "    </tr>\n",
       "    <tr>\n",
       "      <th>00042c13310b03b6fc30c30c34efd2ad127517be</th>\n",
       "      <td>1</td>\n",
       "    </tr>\n",
       "    <tr>\n",
       "      <th>00055cea4f5db0c8569127d8ac89a7d130c730cf</th>\n",
       "      <td>1</td>\n",
       "    </tr>\n",
       "    <tr>\n",
       "      <th>0007c3a1163a8b19781443bde21b785900f56814</th>\n",
       "      <td>1</td>\n",
       "    </tr>\n",
       "  </tbody>\n",
       "</table>\n",
       "</div>"
      ],
      "text/plain": [
       "                                          outliers\n",
       "000319dcc413983e25dee182bae7b1d76ebe8d9b         1\n",
       "0003ece6f51872662ee9b366cd2a72434e01a139         1\n",
       "00042c13310b03b6fc30c30c34efd2ad127517be         1\n",
       "00055cea4f5db0c8569127d8ac89a7d130c730cf         1\n",
       "0007c3a1163a8b19781443bde21b785900f56814         1"
      ]
     },
     "execution_count": 209,
     "metadata": {},
     "output_type": "execute_result"
    }
   ],
   "source": [
    "lr_ref_traces.reset_index(level=0, inplace=True)\n",
    "index_list=list(lr_ref_traces['anon_screen_name'])\n",
    "lr_list=dict(zip(index_list, reflective_anomaly_prediction))\n",
    "\n",
    "R_anomaly=pd.DataFrame.from_dict(lr_list, orient='index')\n",
    "R_anomaly.columns = ['outliers']\n",
    "R_anomaly.head()"
   ]
  },
  {
   "cell_type": "code",
   "execution_count": 210,
   "metadata": {},
   "outputs": [
    {
     "data": {
      "text/html": [
       "<div>\n",
       "<style>\n",
       "    .dataframe thead tr:only-child th {\n",
       "        text-align: right;\n",
       "    }\n",
       "\n",
       "    .dataframe thead th {\n",
       "        text-align: left;\n",
       "    }\n",
       "\n",
       "    .dataframe tbody tr th {\n",
       "        vertical-align: top;\n",
       "    }\n",
       "</style>\n",
       "<table border=\"1\" class=\"dataframe\">\n",
       "  <thead>\n",
       "    <tr style=\"text-align: right;\">\n",
       "      <th></th>\n",
       "      <th>nbr_problem_show</th>\n",
       "      <th>problem_show_stay</th>\n",
       "      <th>avg_problem_show</th>\n",
       "      <th>outline</th>\n",
       "      <th>view_post</th>\n",
       "      <th>outliers</th>\n",
       "    </tr>\n",
       "    <tr>\n",
       "      <th>anon_screen_name</th>\n",
       "      <th></th>\n",
       "      <th></th>\n",
       "      <th></th>\n",
       "      <th></th>\n",
       "      <th></th>\n",
       "      <th></th>\n",
       "    </tr>\n",
       "  </thead>\n",
       "  <tbody>\n",
       "    <tr>\n",
       "      <th>000319dcc413983e25dee182bae7b1d76ebe8d9b</th>\n",
       "      <td>0.0</td>\n",
       "      <td>0.0</td>\n",
       "      <td>0.000000</td>\n",
       "      <td>3</td>\n",
       "      <td>0</td>\n",
       "      <td>1</td>\n",
       "    </tr>\n",
       "    <tr>\n",
       "      <th>0003ece6f51872662ee9b366cd2a72434e01a139</th>\n",
       "      <td>0.0</td>\n",
       "      <td>0.0</td>\n",
       "      <td>0.000000</td>\n",
       "      <td>2</td>\n",
       "      <td>21</td>\n",
       "      <td>1</td>\n",
       "    </tr>\n",
       "    <tr>\n",
       "      <th>00042c13310b03b6fc30c30c34efd2ad127517be</th>\n",
       "      <td>2.0</td>\n",
       "      <td>63.0</td>\n",
       "      <td>0.400000</td>\n",
       "      <td>3</td>\n",
       "      <td>0</td>\n",
       "      <td>1</td>\n",
       "    </tr>\n",
       "    <tr>\n",
       "      <th>00055cea4f5db0c8569127d8ac89a7d130c730cf</th>\n",
       "      <td>20.0</td>\n",
       "      <td>493.0</td>\n",
       "      <td>0.869565</td>\n",
       "      <td>12</td>\n",
       "      <td>0</td>\n",
       "      <td>1</td>\n",
       "    </tr>\n",
       "    <tr>\n",
       "      <th>0007c3a1163a8b19781443bde21b785900f56814</th>\n",
       "      <td>1.0</td>\n",
       "      <td>0.0</td>\n",
       "      <td>0.333333</td>\n",
       "      <td>5</td>\n",
       "      <td>0</td>\n",
       "      <td>1</td>\n",
       "    </tr>\n",
       "  </tbody>\n",
       "</table>\n",
       "</div>"
      ],
      "text/plain": [
       "                                          nbr_problem_show  problem_show_stay  \\\n",
       "anon_screen_name                                                                \n",
       "000319dcc413983e25dee182bae7b1d76ebe8d9b               0.0                0.0   \n",
       "0003ece6f51872662ee9b366cd2a72434e01a139               0.0                0.0   \n",
       "00042c13310b03b6fc30c30c34efd2ad127517be               2.0               63.0   \n",
       "00055cea4f5db0c8569127d8ac89a7d130c730cf              20.0              493.0   \n",
       "0007c3a1163a8b19781443bde21b785900f56814               1.0                0.0   \n",
       "\n",
       "                                          avg_problem_show  outline  \\\n",
       "anon_screen_name                                                      \n",
       "000319dcc413983e25dee182bae7b1d76ebe8d9b          0.000000        3   \n",
       "0003ece6f51872662ee9b366cd2a72434e01a139          0.000000        2   \n",
       "00042c13310b03b6fc30c30c34efd2ad127517be          0.400000        3   \n",
       "00055cea4f5db0c8569127d8ac89a7d130c730cf          0.869565       12   \n",
       "0007c3a1163a8b19781443bde21b785900f56814          0.333333        5   \n",
       "\n",
       "                                          view_post  outliers  \n",
       "anon_screen_name                                               \n",
       "000319dcc413983e25dee182bae7b1d76ebe8d9b          0         1  \n",
       "0003ece6f51872662ee9b366cd2a72434e01a139         21         1  \n",
       "00042c13310b03b6fc30c30c34efd2ad127517be          0         1  \n",
       "00055cea4f5db0c8569127d8ac89a7d130c730cf          0         1  \n",
       "0007c3a1163a8b19781443bde21b785900f56814          0         1  "
      ]
     },
     "execution_count": 210,
     "metadata": {},
     "output_type": "execute_result"
    }
   ],
   "source": [
    "R_anomaly.reset_index(level=0, inplace=True)\n",
    "R_anomaly=R_anomaly.rename(columns={'index':'anon_screen_name'})\n",
    "\n",
    "R_LS_anomaly=pd.merge(lr_ref_traces, R_anomaly, on='anon_screen_name')\n",
    "R_LS_anomaly.set_index(\"anon_screen_name\",inplace=True)\n",
    "\n",
    "R_LS_anomaly.head()"
   ]
  },
  {
   "cell_type": "code",
   "execution_count": 211,
   "metadata": {},
   "outputs": [
    {
     "data": {
      "text/html": [
       "<div>\n",
       "<style>\n",
       "    .dataframe thead tr:only-child th {\n",
       "        text-align: right;\n",
       "    }\n",
       "\n",
       "    .dataframe thead th {\n",
       "        text-align: left;\n",
       "    }\n",
       "\n",
       "    .dataframe tbody tr th {\n",
       "        vertical-align: top;\n",
       "    }\n",
       "</style>\n",
       "<table border=\"1\" class=\"dataframe\">\n",
       "  <thead>\n",
       "    <tr style=\"text-align: right;\">\n",
       "      <th></th>\n",
       "      <th>nbr_problem_show</th>\n",
       "      <th>problem_show_stay</th>\n",
       "      <th>avg_problem_show</th>\n",
       "      <th>outline</th>\n",
       "      <th>view_post</th>\n",
       "      <th>outliers</th>\n",
       "    </tr>\n",
       "    <tr>\n",
       "      <th>anon_screen_name</th>\n",
       "      <th></th>\n",
       "      <th></th>\n",
       "      <th></th>\n",
       "      <th></th>\n",
       "      <th></th>\n",
       "      <th></th>\n",
       "    </tr>\n",
       "  </thead>\n",
       "  <tbody>\n",
       "    <tr>\n",
       "      <th>2802fa135545c5d9a74f94397c2656b2b928a778</th>\n",
       "      <td>100.0</td>\n",
       "      <td>15258.0</td>\n",
       "      <td>0.961538</td>\n",
       "      <td>71</td>\n",
       "      <td>1222</td>\n",
       "      <td>-1</td>\n",
       "    </tr>\n",
       "    <tr>\n",
       "      <th>5f694e7e8fa3ec6726f9f95b6aee59249f1b7a6e</th>\n",
       "      <td>92.0</td>\n",
       "      <td>10917.0</td>\n",
       "      <td>0.893204</td>\n",
       "      <td>68</td>\n",
       "      <td>2682</td>\n",
       "      <td>-1</td>\n",
       "    </tr>\n",
       "    <tr>\n",
       "      <th>7dc3669973c6c2a6635ad2a5aed9a0a2e0f7cce5</th>\n",
       "      <td>103.0</td>\n",
       "      <td>11393.0</td>\n",
       "      <td>1.000000</td>\n",
       "      <td>81</td>\n",
       "      <td>288</td>\n",
       "      <td>-1</td>\n",
       "    </tr>\n",
       "    <tr>\n",
       "      <th>a90aa0d04b44ff3248fbd3d19d9b6ed77b264d22</th>\n",
       "      <td>103.0</td>\n",
       "      <td>10878.0</td>\n",
       "      <td>0.990385</td>\n",
       "      <td>107</td>\n",
       "      <td>353</td>\n",
       "      <td>-1</td>\n",
       "    </tr>\n",
       "    <tr>\n",
       "      <th>f280749e41adf8bb57f7ab55450ecb49c4064068</th>\n",
       "      <td>84.0</td>\n",
       "      <td>8421.0</td>\n",
       "      <td>0.807692</td>\n",
       "      <td>205</td>\n",
       "      <td>1224</td>\n",
       "      <td>-1</td>\n",
       "    </tr>\n",
       "  </tbody>\n",
       "</table>\n",
       "</div>"
      ],
      "text/plain": [
       "                                          nbr_problem_show  problem_show_stay  \\\n",
       "anon_screen_name                                                                \n",
       "2802fa135545c5d9a74f94397c2656b2b928a778             100.0            15258.0   \n",
       "5f694e7e8fa3ec6726f9f95b6aee59249f1b7a6e              92.0            10917.0   \n",
       "7dc3669973c6c2a6635ad2a5aed9a0a2e0f7cce5             103.0            11393.0   \n",
       "a90aa0d04b44ff3248fbd3d19d9b6ed77b264d22             103.0            10878.0   \n",
       "f280749e41adf8bb57f7ab55450ecb49c4064068              84.0             8421.0   \n",
       "\n",
       "                                          avg_problem_show  outline  \\\n",
       "anon_screen_name                                                      \n",
       "2802fa135545c5d9a74f94397c2656b2b928a778          0.961538       71   \n",
       "5f694e7e8fa3ec6726f9f95b6aee59249f1b7a6e          0.893204       68   \n",
       "7dc3669973c6c2a6635ad2a5aed9a0a2e0f7cce5          1.000000       81   \n",
       "a90aa0d04b44ff3248fbd3d19d9b6ed77b264d22          0.990385      107   \n",
       "f280749e41adf8bb57f7ab55450ecb49c4064068          0.807692      205   \n",
       "\n",
       "                                          view_post  outliers  \n",
       "anon_screen_name                                               \n",
       "2802fa135545c5d9a74f94397c2656b2b928a778       1222        -1  \n",
       "5f694e7e8fa3ec6726f9f95b6aee59249f1b7a6e       2682        -1  \n",
       "7dc3669973c6c2a6635ad2a5aed9a0a2e0f7cce5        288        -1  \n",
       "a90aa0d04b44ff3248fbd3d19d9b6ed77b264d22        353        -1  \n",
       "f280749e41adf8bb57f7ab55450ecb49c4064068       1224        -1  "
      ]
     },
     "execution_count": 211,
     "metadata": {},
     "output_type": "execute_result"
    }
   ],
   "source": [
    "R_LS_anomaly[R_LS_anomaly.outliers==-1]"
   ]
  },
  {
   "cell_type": "code",
   "execution_count": 214,
   "metadata": {},
   "outputs": [
    {
     "data": {
      "text/plain": [
       "<matplotlib.legend.Legend at 0x11f555dd0b8>"
      ]
     },
     "execution_count": 214,
     "metadata": {},
     "output_type": "execute_result"
    },
    {
     "data": {
      "image/png": "[encoded data removed]",
      "text/plain": [
       "<matplotlib.figure.Figure at 0x11f555e3358>"
      ]
     },
     "metadata": {},
     "output_type": "display_data"
    }
   ],
   "source": [
    "sns.lmplot( x=\"avg_problem_show\", y=\"problem_show_stay\", data=R_LS_anomaly, \n",
    "           fit_reg=False, hue='outliers', legend=False)\n",
    "plt.legend(loc='lower right')"
   ]
  },
  {
   "cell_type": "markdown",
   "metadata": {},
   "source": [
    "# Exportation reflective features "
   ]
  },
  {
   "cell_type": "code",
   "execution_count": 217,
   "metadata": {},
   "outputs": [],
   "source": [
    "R_LS_inliers=Ref_LS[Ref_LS.index!=\"d6d0454b50adf5d40c30d30eb369e2b675eea67f\"]"
   ]
  },
  {
   "cell_type": "code",
   "execution_count": 218,
   "metadata": {},
   "outputs": [
    {
     "data": {
      "text/plain": [
       "Index(['nbr_events', 'nbr_week', 'nbr_problem_show', 'problem_show_stay',\n",
       "       'avg_problem_show', 'outline', 'view_post'],\n",
       "      dtype='object')"
      ]
     },
     "execution_count": 218,
     "metadata": {},
     "output_type": "execute_result"
    }
   ],
   "source": [
    "R_LS_inliers.columns"
   ]
  },
  {
   "cell_type": "code",
   "execution_count": 219,
   "metadata": {
    "collapsed": true
   },
   "outputs": [],
   "source": [
    "R_LS_inliers.to_csv(\"reflective_features_inliers.csv\",columns=['anon_screen_name', 'nbr_events', 'nbr_week', 'nbr_problem_show', 'problem_show_stay',\n",
    "       'avg_problem_show', 'outline', 'view_post'])"
   ]
  },
  {
   "cell_type": "code",
   "execution_count": null,
   "metadata": {
    "collapsed": true
   },
   "outputs": [],
   "source": []
  },
  {
   "cell_type": "code",
   "execution_count": null,
   "metadata": {
    "collapsed": true
   },
   "outputs": [],
   "source": []
  }
 ],
 "metadata": {
  "kernelspec": {
   "display_name": "Python 3",
   "language": "python",
   "name": "python3"
  },
  "language_info": {
   "codemirror_mode": {
    "name": "ipython",
    "version": 3
   },
   "file_extension": ".py",
   "mimetype": "text/x-python",
   "name": "python",
   "nbconvert_exporter": "python",
   "pygments_lexer": "ipython3",
   "version": "3.6.7"
  },
  "toc": {
   "base_numbering": 1,
   "nav_menu": {},
   "number_sections": true,
   "sideBar": true,
   "skip_h1_title": false,
   "title_cell": "Table of Contents",
   "title_sidebar": "Contents",
   "toc_cell": false,
   "toc_position": {
    "height": "calc(100% - 180px)",
    "left": "10px",
    "top": "150px",
    "width": "239px"
   },
   "toc_section_display": true,
   "toc_window_display": true
  },
  "varInspector": {
   "cols": {
    "lenName": 16,
    "lenType": 16,
    "lenVar": 40
   },
   "kernels_config": {
    "python": {
     "delete_cmd_postfix": "",
     "delete_cmd_prefix": "del ",
     "library": "var_list.py",
     "varRefreshCmd": "print(var_dic_list())"
    },
    "r": {
     "delete_cmd_postfix": ") ",
     "delete_cmd_prefix": "rm(",
     "library": "var_list.r",
     "varRefreshCmd": "cat(var_dic_list()) "
    }
   },
   "oldHeight": 294,
   "position": {
    "height": "315px",
    "left": "748px",
    "right": "401px",
    "top": "118px",
    "width": "357px"
   },
   "types_to_exclude": [
    "module",
    "function",
    "builtin_function_or_method",
    "instance",
    "_Feature"
   ],
   "varInspector_section_display": "block",
   "window_display": false
  }
 },
 "nbformat": 4,
 "nbformat_minor": 2
}
